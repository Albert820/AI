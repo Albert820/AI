{
  "cells": [
    {
      "cell_type": "code",
      "execution_count": null,
      "metadata": {
        "id": "NL0aQxX9k7d3"
      },
      "outputs": [],
      "source": [
        "import numpy as np\n",
        "import tensorflow as tf\n",
        "import tensorflow_hub as hub\n",
        "import matplotlib.pyplot as plt\n",
        "from google.colab import files\n",
        "import json\n",
        "from sklearn.preprocessing import LabelEncoder"
      ]
    },
    {
      "cell_type": "markdown",
      "metadata": {
        "id": "BDHf6k19lm7E"
      },
      "source": [
        "##1.classify by DenseNN"
      ]
    },
    {
      "cell_type": "code",
      "execution_count": null,
      "metadata": {
        "id": "uH3LfqyqlSbA",
        "colab": {
          "base_uri": "https://localhost:8080/",
          "height": 200
        },
        "outputId": "2897bdf8-6cbe-4184-8a76-3c0064b22972"
      },
      "outputs": [
        {
          "output_type": "execute_result",
          "data": {
            "application/vnd.google.colaboratory.intrinsic+json": {
              "type": "string"
            },
            "text/plain": [
              "'# 呼吸 #SUM 37 ° # 安瓶 # 補水 # 驚喜 水份 # 韓國 # 代購 # 人氣 # 孕婦 # 敏感 肌 # 眼霜 # 正 韓 # 純 天然 # 無 添加 # 甦秘\\n\\n拒絕 仿冒 假 貨 ‼ ️\\n請 支持 兔兔 🐰 韓國 直 送到 府 服務 🇰 🇷 ✈ ️\\n\\n\\n\\n🐰 🇰 🇷 【 韓國 現貨 直 送到 府 】 呼吸 SU:M 37 甦秘 水分 驚喜 高效 補 水 玻 尿酸 眼霜 活水 潤澤 亮采 眼膠 35 ml 💓 🐰 CJ 金兔 兔 韓 代購\\n\\n🌹 有關 產品 細節 都 歡迎 聊聊 詢問 兔兔 🐰 💓\\n\\n韓國 專櫃 正貨 市場價 78000 韓元\\n\\n容量 ： 35 ml\\n（ 超大 容量 ， 一般 市面 上 眼霜 皆 約 15 ml )\\n\\n#koreabeauty\\n\\n保證 正 韓 專櫃 限量 與 獨賣 商品 💓 ，\\n所有 售價 近 韓國 當地 售價 ，\\n給 大家 的 是 正 韓 空運 直 送到 府 的 品質 服務 🇰 🇷 ✈ ️\\n真品 是 不可能 有 奇怪 的 便宜 價格 的 ‼ ️\\n且 自身 還要 承擔 國際 運費 與 匯率 風險 😓 ，\\n恕 無法 議價 ！ 🙏 感謝 親愛 的 顧客 理解 😊\\n\\n取 貨 規範 請 務必 詳閱 🐥\\n\\n✈️ 直 送到 府 🇰 🇷 最 快速 💯 ［10- 14 天 ］ 顧客 們 在 家 收 國際 包裹 ✈ ️ ， 請 選擇 賣 家宅 配。 ( 韓國 國際 空運 起跳價 為 0.5 kg- 460 元 ， 金兔兔 已 為 顧客 承擔 部分 運費 ）\\n\\n🍀 集貨 省郵 🇰 🇷 較 慢 一點 🎈 ［ 15 - 30 天 ］ 💞 賣場 每 月 為 大家 集貨 ～ 再 出貨 至 台灣 便利商店 🚛 請 選擇 所 需 的 店 到 店 取 貨 💓\\n\\n🎉 直 送到 府 免 國際 運費 條件 ： 賣場 消費 總金額 達 新台幣 8888 元 ， 即可 免 國際 運費 💓'"
            ]
          },
          "metadata": {},
          "execution_count": 3
        }
      ],
      "source": [
        "# 讀檔\n",
        "trf = open(\"Shopee_training_ckipseg_v2_OK.json\", \"r\", encoding='UTF-8')\n",
        "fdoc = trf.read()\n",
        "training_set = json.loads(fdoc) #資料為JSON格式純文字字串，\n",
        "training_set[0]['description_wseg'] #此行僅用來確認執行結果正確，可刪去"
      ]
    },
    {
      "cell_type": "code",
      "execution_count": null,
      "metadata": {
        "colab": {
          "base_uri": "https://localhost:8080/"
        },
        "id": "L8-80aC2OCOk",
        "outputId": "bd9ce2fb-748d-445d-8d3b-e7570ebe2882"
      },
      "outputs": [
        {
          "output_type": "stream",
          "name": "stdout",
          "text": [
            "[[0. 0. 0. ... 0. 0. 0.]\n",
            " [0. 1. 0. ... 0. 0. 0.]\n",
            " [0. 0. 1. ... 0. 0. 0.]\n",
            " ...\n",
            " [0. 0. 0. ... 1. 0. 0.]\n",
            " [0. 0. 0. ... 1. 0. 0.]\n",
            " [0. 0. 0. ... 0. 0. 1.]]\n",
            "<class 'numpy.ndarray'>\n",
            "(7592,)\n",
            "(7592, 19)\n",
            "(1898,)\n",
            "(1898, 19)\n"
          ]
        }
      ],
      "source": [
        "# 轉為numpy array的型態\n",
        "import numpy as np\n",
        "from sklearn.preprocessing import LabelEncoder\n",
        "from sklearn.model_selection import train_test_split\n",
        "import tensorflow as tf\n",
        "total_train_examples = [t['description_wseg'].replace('\\n',' ') for t in training_set] #使用description_wseg當data\n",
        "total_train_examples = np.array(total_train_examples)\n",
        "\n",
        "# 使用catid當label, 共19類\n",
        "total_train_labels = [t['catid'] for t in training_set]\n",
        "le = LabelEncoder()\n",
        "le.fit(total_train_labels) #會以提供陣列裡所有出現過的字串來編號\n",
        "train_list_enc = le.transform(total_train_labels) #轉換成編號\n",
        "# 將編號轉成one-hot encoding\n",
        "total_train_labels = tf.keras.utils.to_categorical(train_list_enc)\n",
        "print(total_train_labels)\n",
        "\n",
        "print(type(total_train_labels))\n",
        "train_examples, val_examples, train_labels, val_labels = train_test_split(total_train_examples, total_train_labels, train_size=0.8) #把train data一部分給validation data 比例8:2\n",
        "print(train_examples.shape)\n",
        "print(train_labels.shape)\n",
        "print(val_examples.shape)\n",
        "print(val_labels.shape)"
      ]
    },
    {
      "cell_type": "code",
      "execution_count": null,
      "metadata": {
        "colab": {
          "base_uri": "https://localhost:8080/"
        },
        "id": "BmfgwDrObDNo",
        "outputId": "29629936-f7f8-4435-e170-5019f93e8bd0"
      },
      "outputs": [
        {
          "output_type": "execute_result",
          "data": {
            "text/plain": [
              "<tf.Tensor: shape=(3, 50), dtype=float32, numpy=\n",
              "array([[ 0.19302525, -0.5020228 ,  0.04284242, -0.1865785 , -0.16758227,\n",
              "         0.13102211,  0.12779056, -0.24750991, -0.21339764, -0.04133397,\n",
              "        -0.08535179,  0.0126303 , -0.288338  , -0.247107  , -0.18289359,\n",
              "        -0.06148676, -0.01710249,  0.20895806,  0.0658571 , -0.0506748 ,\n",
              "        -0.43120524, -0.03434062,  0.24003816,  0.4007141 ,  0.08023057,\n",
              "        -0.35393614, -0.04571268,  0.20464036, -0.13032398, -0.16506894,\n",
              "        -0.1901675 ,  0.17418122,  0.14206949, -0.13718902, -0.02925662,\n",
              "        -0.04303558, -0.13660856, -0.08999713,  0.4082112 , -0.1752222 ,\n",
              "        -0.17788698,  0.11497898,  0.0941428 , -0.03349652, -0.21081625,\n",
              "        -0.08035515,  0.09973101, -0.04571908,  0.09311295,  0.00610731],\n",
              "       [ 0.28628984, -0.06572508, -0.00457937, -0.15104023,  0.03989799,\n",
              "         0.05769866,  0.1188296 , -0.1818927 , -0.04000778, -0.05694438,\n",
              "        -0.18512897,  0.06927223, -0.01323419, -0.1099316 , -0.28296018,\n",
              "        -0.2814981 , -0.25419044,  0.20181122,  0.12171446, -0.11844919,\n",
              "        -0.21796282,  0.11895551,  0.22916652,  0.29419088,  0.11966572,\n",
              "        -0.09086778,  0.12273942,  0.12459891,  0.13719575, -0.09075202,\n",
              "        -0.13042206, -0.11427686,  0.16792652,  0.14554204, -0.21559007,\n",
              "         0.11884498,  0.1760123 ,  0.2345475 ,  0.37703004,  0.16236323,\n",
              "        -0.03226153,  0.17789978,  0.1911398 , -0.16089746, -0.24870937,\n",
              "         0.01418448,  0.13631809, -0.08778402,  0.16948663, -0.09362143],\n",
              "       [ 0.16754515, -0.07735897, -0.10130771,  0.10106227, -0.02917014,\n",
              "         0.2630198 , -0.00632597, -0.06418671,  0.08429551,  0.23165472,\n",
              "         0.02378662,  0.11347032, -0.00384718,  0.14968371, -0.34588283,\n",
              "        -0.1142435 , -0.10523253,  0.00334362,  0.1767263 , -0.03351638,\n",
              "        -0.2518074 , -0.19770998,  0.21138439, -0.11542071, -0.1921399 ,\n",
              "         0.03799855,  0.05846237,  0.01106158,  0.18197474, -0.09574161,\n",
              "        -0.11260854,  0.21433312,  0.22684073, -0.08776917, -0.17217356,\n",
              "         0.15627097, -0.12453254,  0.2966059 ,  0.19804814, -0.06864355,\n",
              "        -0.25109604, -0.08457896,  0.02800031, -0.12494572, -0.1177605 ,\n",
              "         0.01469179,  0.01319356,  0.06375193,  0.00220977,  0.01689164]],\n",
              "      dtype=float32)>"
            ]
          },
          "metadata": {},
          "execution_count": 5
        }
      ],
      "source": [
        "# 此行表示 word embedding 資料直接至網路下載，而且是英文的。原範例程式說明有4種英文embeddings可選擇，請參考\n",
        "embed_url = \"https://tfhub.dev/google/nnlm-zh-dim50/2\"\n",
        "\n",
        "# 若要使用中文 embeddings，把網址中的 nnlm-en 改成 nnlm-zh 即可\n",
        "# 若要在個人電腦單機作業，請先至 Google nnlm 網頁下載 embeddings 資料，\n",
        "# 再將embed_url改成電腦裡的檔案所在位置即可\n",
        "\n",
        "hub_layer = hub.KerasLayer(embed_url, input_shape=[], dtype=tf.string, trainable=False)\n",
        "hub_layer(['若要在', '個人電腦', '單機作業']) #這行測試用"
      ]
    },
    {
      "cell_type": "code",
      "execution_count": null,
      "metadata": {
        "id": "oIMEvDO-bRDc",
        "colab": {
          "base_uri": "https://localhost:8080/"
        },
        "outputId": "50f0eeb7-94de-4009-dcb8-6b6a1e4d9fa0"
      },
      "outputs": [
        {
          "output_type": "stream",
          "name": "stdout",
          "text": [
            "Model: \"sequential\"\n",
            "_________________________________________________________________\n",
            " Layer (type)                Output Shape              Param #   \n",
            "=================================================================\n",
            " keras_layer (KerasLayer)    (None, 50)                48558850  \n",
            "                                                                 \n",
            " batch_normalization (BatchN  (None, 50)               200       \n",
            " ormalization)                                                   \n",
            "                                                                 \n",
            " dense (Dense)               (None, 64)                3264      \n",
            "                                                                 \n",
            " dropout (Dropout)           (None, 64)                0         \n",
            "                                                                 \n",
            " dense_1 (Dense)             (None, 32)                2080      \n",
            "                                                                 \n",
            " dropout_1 (Dropout)         (None, 32)                0         \n",
            "                                                                 \n",
            " dense_2 (Dense)             (None, 19)                627       \n",
            "                                                                 \n",
            "=================================================================\n",
            "Total params: 48,565,021\n",
            "Trainable params: 6,071\n",
            "Non-trainable params: 48,558,950\n",
            "_________________________________________________________________\n"
          ]
        }
      ],
      "source": [
        "# Dense Net\n",
        "model = tf.keras.Sequential()\n",
        "model.add(hub_layer)\n",
        "model.add(tf.keras.layers.BatchNormalization())\n",
        "#model.add(tf.keras.layers.Dropout(0.2))\n",
        "model.add(tf.keras.layers.Dense(64, activation='sigmoid'))\n",
        "#model.add(tf.keras.layers.Dense(32, activation='sigmoid'))\n",
        "model.add(tf.keras.layers.Dropout(0.2))\n",
        "model.add(tf.keras.layers.Dense(32, activation='sigmoid'))\n",
        "model.add(tf.keras.layers.Dropout(0.2))\n",
        "model.add(tf.keras.layers.Dense(19, activation='softmax'))\n",
        "model.summary() #顯示每層的資訊"
      ]
    },
    {
      "cell_type": "code",
      "execution_count": null,
      "metadata": {
        "id": "6OUIef7Hc4P7"
      },
      "outputs": [],
      "source": [
        "# training\n",
        "model.compile(optimizer = 'adam',\n",
        "       loss = tf.losses.CategoricalCrossentropy(from_logits=True),\n",
        "       metrics = [tf.metrics.CategoricalAccuracy()])\n",
        "# 注意範例中 imdb_reviews 只有 0/1 兩種 labels，而作業的 labels 有 19 種\n",
        "# 參數中 loss function 需由 BinaryCrossentropy 改成 CategoricalCrossentropy\n",
        "# 參數中 metrics 需由 BinaryAccuracy 改成 CategoricalAccuracy"
      ]
    },
    {
      "cell_type": "code",
      "execution_count": null,
      "metadata": {
        "colab": {
          "base_uri": "https://localhost:8080/"
        },
        "id": "H8GPz55bc4P7",
        "outputId": "2417f876-e535-48f7-fb82-e615c2d180d0"
      },
      "outputs": [
        {
          "output_type": "stream",
          "name": "stdout",
          "text": [
            "Epoch 1/100\n"
          ]
        },
        {
          "output_type": "stream",
          "name": "stderr",
          "text": [
            "/usr/local/lib/python3.7/dist-packages/tensorflow/python/util/dispatch.py:1096: UserWarning: \"`categorical_crossentropy` received `from_logits=True`, but the `output` argument was produced by a sigmoid or softmax activation and thus does not represent logits. Was this intended?\"\n",
            "  return dispatch_target(*args, **kwargs)\n"
          ]
        },
        {
          "output_type": "stream",
          "name": "stdout",
          "text": [
            "15/15 [==============================] - 3s 36ms/step - loss: 3.0103 - categorical_accuracy: 0.0609 - val_loss: 2.9517 - val_categorical_accuracy: 0.0569\n",
            "Epoch 2/100\n",
            "15/15 [==============================] - 0s 19ms/step - loss: 2.9551 - categorical_accuracy: 0.0630 - val_loss: 2.9362 - val_categorical_accuracy: 0.0590\n",
            "Epoch 3/100\n",
            "15/15 [==============================] - 0s 19ms/step - loss: 2.9387 - categorical_accuracy: 0.0692 - val_loss: 2.9294 - val_categorical_accuracy: 0.0632\n",
            "Epoch 4/100\n",
            "15/15 [==============================] - 0s 19ms/step - loss: 2.9265 - categorical_accuracy: 0.0751 - val_loss: 2.9227 - val_categorical_accuracy: 0.1096\n",
            "Epoch 5/100\n",
            "15/15 [==============================] - 0s 19ms/step - loss: 2.9079 - categorical_accuracy: 0.0857 - val_loss: 2.9148 - val_categorical_accuracy: 0.1344\n",
            "Epoch 6/100\n",
            "15/15 [==============================] - 0s 20ms/step - loss: 2.8972 - categorical_accuracy: 0.0964 - val_loss: 2.9063 - val_categorical_accuracy: 0.1396\n",
            "Epoch 7/100\n",
            "15/15 [==============================] - 0s 19ms/step - loss: 2.8800 - categorical_accuracy: 0.1045 - val_loss: 2.8935 - val_categorical_accuracy: 0.1544\n",
            "Epoch 8/100\n",
            "15/15 [==============================] - 0s 19ms/step - loss: 2.8621 - categorical_accuracy: 0.1137 - val_loss: 2.8789 - val_categorical_accuracy: 0.1654\n",
            "Epoch 9/100\n",
            "15/15 [==============================] - 0s 20ms/step - loss: 2.8450 - categorical_accuracy: 0.1266 - val_loss: 2.8614 - val_categorical_accuracy: 0.1760\n",
            "Epoch 10/100\n",
            "15/15 [==============================] - 0s 19ms/step - loss: 2.8247 - categorical_accuracy: 0.1382 - val_loss: 2.8398 - val_categorical_accuracy: 0.1913\n",
            "Epoch 11/100\n",
            "15/15 [==============================] - 0s 18ms/step - loss: 2.7949 - categorical_accuracy: 0.1436 - val_loss: 2.8121 - val_categorical_accuracy: 0.2181\n",
            "Epoch 12/100\n",
            "15/15 [==============================] - 0s 19ms/step - loss: 2.7696 - categorical_accuracy: 0.1499 - val_loss: 2.7811 - val_categorical_accuracy: 0.2276\n",
            "Epoch 13/100\n",
            "15/15 [==============================] - 0s 19ms/step - loss: 2.7380 - categorical_accuracy: 0.1631 - val_loss: 2.7494 - val_categorical_accuracy: 0.2276\n",
            "Epoch 14/100\n",
            "15/15 [==============================] - 0s 19ms/step - loss: 2.7129 - categorical_accuracy: 0.1683 - val_loss: 2.7151 - val_categorical_accuracy: 0.2513\n",
            "Epoch 15/100\n",
            "15/15 [==============================] - 0s 18ms/step - loss: 2.6922 - categorical_accuracy: 0.1781 - val_loss: 2.6842 - val_categorical_accuracy: 0.2418\n",
            "Epoch 16/100\n",
            "15/15 [==============================] - 0s 19ms/step - loss: 2.6614 - categorical_accuracy: 0.1805 - val_loss: 2.6516 - val_categorical_accuracy: 0.2503\n",
            "Epoch 17/100\n",
            "15/15 [==============================] - 0s 19ms/step - loss: 2.6403 - categorical_accuracy: 0.1852 - val_loss: 2.6222 - val_categorical_accuracy: 0.2597\n",
            "Epoch 18/100\n",
            "15/15 [==============================] - 0s 19ms/step - loss: 2.6206 - categorical_accuracy: 0.1808 - val_loss: 2.5916 - val_categorical_accuracy: 0.2545\n",
            "Epoch 19/100\n",
            "15/15 [==============================] - 0s 18ms/step - loss: 2.5936 - categorical_accuracy: 0.1961 - val_loss: 2.5665 - val_categorical_accuracy: 0.2624\n",
            "Epoch 20/100\n",
            "15/15 [==============================] - 0s 19ms/step - loss: 2.5808 - categorical_accuracy: 0.2014 - val_loss: 2.5392 - val_categorical_accuracy: 0.2677\n",
            "Epoch 21/100\n",
            "15/15 [==============================] - 0s 19ms/step - loss: 2.5553 - categorical_accuracy: 0.1963 - val_loss: 2.5146 - val_categorical_accuracy: 0.2703\n",
            "Epoch 22/100\n",
            "15/15 [==============================] - 0s 19ms/step - loss: 2.5376 - categorical_accuracy: 0.2053 - val_loss: 2.4925 - val_categorical_accuracy: 0.2819\n",
            "Epoch 23/100\n",
            "15/15 [==============================] - 0s 18ms/step - loss: 2.5207 - categorical_accuracy: 0.2152 - val_loss: 2.4705 - val_categorical_accuracy: 0.2808\n",
            "Epoch 24/100\n",
            "15/15 [==============================] - 0s 19ms/step - loss: 2.5024 - categorical_accuracy: 0.2177 - val_loss: 2.4527 - val_categorical_accuracy: 0.2798\n",
            "Epoch 25/100\n",
            "15/15 [==============================] - 0s 19ms/step - loss: 2.4831 - categorical_accuracy: 0.2155 - val_loss: 2.4305 - val_categorical_accuracy: 0.2829\n",
            "Epoch 26/100\n",
            "15/15 [==============================] - 0s 19ms/step - loss: 2.4710 - categorical_accuracy: 0.2202 - val_loss: 2.4138 - val_categorical_accuracy: 0.2882\n",
            "Epoch 27/100\n",
            "15/15 [==============================] - 0s 19ms/step - loss: 2.4578 - categorical_accuracy: 0.2360 - val_loss: 2.4000 - val_categorical_accuracy: 0.2829\n",
            "Epoch 28/100\n",
            "15/15 [==============================] - 0s 19ms/step - loss: 2.4536 - categorical_accuracy: 0.2312 - val_loss: 2.3834 - val_categorical_accuracy: 0.2961\n",
            "Epoch 29/100\n",
            "15/15 [==============================] - 0s 19ms/step - loss: 2.4439 - categorical_accuracy: 0.2343 - val_loss: 2.3706 - val_categorical_accuracy: 0.2924\n",
            "Epoch 30/100\n",
            "15/15 [==============================] - 0s 20ms/step - loss: 2.4227 - categorical_accuracy: 0.2367 - val_loss: 2.3594 - val_categorical_accuracy: 0.2903\n",
            "Epoch 31/100\n",
            "15/15 [==============================] - 0s 20ms/step - loss: 2.4168 - categorical_accuracy: 0.2367 - val_loss: 2.3469 - val_categorical_accuracy: 0.2956\n",
            "Epoch 32/100\n",
            "15/15 [==============================] - 0s 19ms/step - loss: 2.4159 - categorical_accuracy: 0.2347 - val_loss: 2.3349 - val_categorical_accuracy: 0.2998\n",
            "Epoch 33/100\n",
            "15/15 [==============================] - 0s 19ms/step - loss: 2.3967 - categorical_accuracy: 0.2422 - val_loss: 2.3250 - val_categorical_accuracy: 0.3008\n",
            "Epoch 34/100\n",
            "15/15 [==============================] - 0s 20ms/step - loss: 2.3867 - categorical_accuracy: 0.2497 - val_loss: 2.3138 - val_categorical_accuracy: 0.3051\n",
            "Epoch 35/100\n",
            "15/15 [==============================] - 0s 19ms/step - loss: 2.3775 - categorical_accuracy: 0.2568 - val_loss: 2.3069 - val_categorical_accuracy: 0.3014\n",
            "Epoch 36/100\n",
            "15/15 [==============================] - 0s 19ms/step - loss: 2.3709 - categorical_accuracy: 0.2517 - val_loss: 2.2968 - val_categorical_accuracy: 0.3072\n",
            "Epoch 37/100\n",
            "15/15 [==============================] - 0s 18ms/step - loss: 2.3612 - categorical_accuracy: 0.2541 - val_loss: 2.2887 - val_categorical_accuracy: 0.3093\n",
            "Epoch 38/100\n",
            "15/15 [==============================] - 0s 20ms/step - loss: 2.3596 - categorical_accuracy: 0.2561 - val_loss: 2.2809 - val_categorical_accuracy: 0.3093\n",
            "Epoch 39/100\n",
            "15/15 [==============================] - 0s 19ms/step - loss: 2.3455 - categorical_accuracy: 0.2594 - val_loss: 2.2729 - val_categorical_accuracy: 0.3109\n",
            "Epoch 40/100\n",
            "15/15 [==============================] - 0s 18ms/step - loss: 2.3447 - categorical_accuracy: 0.2644 - val_loss: 2.2649 - val_categorical_accuracy: 0.3119\n",
            "Epoch 41/100\n",
            "15/15 [==============================] - 0s 20ms/step - loss: 2.3278 - categorical_accuracy: 0.2692 - val_loss: 2.2564 - val_categorical_accuracy: 0.3172\n",
            "Epoch 42/100\n",
            "15/15 [==============================] - 0s 18ms/step - loss: 2.3267 - categorical_accuracy: 0.2682 - val_loss: 2.2505 - val_categorical_accuracy: 0.3161\n",
            "Epoch 43/100\n",
            "15/15 [==============================] - 0s 19ms/step - loss: 2.3277 - categorical_accuracy: 0.2663 - val_loss: 2.2452 - val_categorical_accuracy: 0.3135\n",
            "Epoch 44/100\n",
            "15/15 [==============================] - 0s 19ms/step - loss: 2.3181 - categorical_accuracy: 0.2700 - val_loss: 2.2386 - val_categorical_accuracy: 0.3193\n",
            "Epoch 45/100\n",
            "15/15 [==============================] - 0s 21ms/step - loss: 2.3023 - categorical_accuracy: 0.2719 - val_loss: 2.2319 - val_categorical_accuracy: 0.3193\n",
            "Epoch 46/100\n",
            "15/15 [==============================] - 0s 19ms/step - loss: 2.3017 - categorical_accuracy: 0.2785 - val_loss: 2.2257 - val_categorical_accuracy: 0.3203\n",
            "Epoch 47/100\n",
            "15/15 [==============================] - 0s 18ms/step - loss: 2.2972 - categorical_accuracy: 0.2756 - val_loss: 2.2184 - val_categorical_accuracy: 0.3214\n",
            "Epoch 48/100\n",
            "15/15 [==============================] - 0s 19ms/step - loss: 2.2890 - categorical_accuracy: 0.2759 - val_loss: 2.2134 - val_categorical_accuracy: 0.3230\n",
            "Epoch 49/100\n",
            "15/15 [==============================] - 0s 19ms/step - loss: 2.2853 - categorical_accuracy: 0.2790 - val_loss: 2.2073 - val_categorical_accuracy: 0.3214\n",
            "Epoch 50/100\n",
            "15/15 [==============================] - 0s 20ms/step - loss: 2.2717 - categorical_accuracy: 0.2820 - val_loss: 2.2024 - val_categorical_accuracy: 0.3214\n",
            "Epoch 51/100\n",
            "15/15 [==============================] - 0s 19ms/step - loss: 2.2736 - categorical_accuracy: 0.2825 - val_loss: 2.1968 - val_categorical_accuracy: 0.3277\n",
            "Epoch 52/100\n",
            "15/15 [==============================] - 0s 20ms/step - loss: 2.2686 - categorical_accuracy: 0.2856 - val_loss: 2.1918 - val_categorical_accuracy: 0.3261\n",
            "Epoch 53/100\n",
            "15/15 [==============================] - 0s 20ms/step - loss: 2.2616 - categorical_accuracy: 0.2903 - val_loss: 2.1867 - val_categorical_accuracy: 0.3261\n",
            "Epoch 54/100\n",
            "15/15 [==============================] - 0s 20ms/step - loss: 2.2680 - categorical_accuracy: 0.2857 - val_loss: 2.1825 - val_categorical_accuracy: 0.3303\n",
            "Epoch 55/100\n",
            "15/15 [==============================] - 0s 20ms/step - loss: 2.2568 - categorical_accuracy: 0.2849 - val_loss: 2.1764 - val_categorical_accuracy: 0.3298\n",
            "Epoch 56/100\n",
            "15/15 [==============================] - 0s 19ms/step - loss: 2.2485 - categorical_accuracy: 0.2910 - val_loss: 2.1756 - val_categorical_accuracy: 0.3272\n",
            "Epoch 57/100\n",
            "15/15 [==============================] - 0s 19ms/step - loss: 2.2473 - categorical_accuracy: 0.2957 - val_loss: 2.1701 - val_categorical_accuracy: 0.3293\n",
            "Epoch 58/100\n",
            "15/15 [==============================] - 0s 19ms/step - loss: 2.2456 - categorical_accuracy: 0.2869 - val_loss: 2.1650 - val_categorical_accuracy: 0.3309\n",
            "Epoch 59/100\n",
            "15/15 [==============================] - 0s 19ms/step - loss: 2.2393 - categorical_accuracy: 0.2948 - val_loss: 2.1619 - val_categorical_accuracy: 0.3246\n",
            "Epoch 60/100\n",
            "15/15 [==============================] - 0s 19ms/step - loss: 2.2317 - categorical_accuracy: 0.2939 - val_loss: 2.1571 - val_categorical_accuracy: 0.3314\n",
            "Epoch 61/100\n",
            "15/15 [==============================] - 0s 19ms/step - loss: 2.2355 - categorical_accuracy: 0.2954 - val_loss: 2.1548 - val_categorical_accuracy: 0.3356\n",
            "Epoch 62/100\n",
            "15/15 [==============================] - 0s 20ms/step - loss: 2.2332 - categorical_accuracy: 0.2920 - val_loss: 2.1514 - val_categorical_accuracy: 0.3356\n",
            "Epoch 63/100\n",
            "15/15 [==============================] - 0s 19ms/step - loss: 2.2276 - categorical_accuracy: 0.3019 - val_loss: 2.1483 - val_categorical_accuracy: 0.3335\n",
            "Epoch 64/100\n",
            "15/15 [==============================] - 0s 19ms/step - loss: 2.2182 - categorical_accuracy: 0.3055 - val_loss: 2.1431 - val_categorical_accuracy: 0.3356\n",
            "Epoch 65/100\n",
            "15/15 [==============================] - 0s 19ms/step - loss: 2.2189 - categorical_accuracy: 0.2976 - val_loss: 2.1401 - val_categorical_accuracy: 0.3377\n",
            "Epoch 66/100\n",
            "15/15 [==============================] - 0s 19ms/step - loss: 2.2148 - categorical_accuracy: 0.2991 - val_loss: 2.1379 - val_categorical_accuracy: 0.3367\n",
            "Epoch 67/100\n",
            "15/15 [==============================] - 0s 20ms/step - loss: 2.2127 - categorical_accuracy: 0.3012 - val_loss: 2.1332 - val_categorical_accuracy: 0.3425\n",
            "Epoch 68/100\n",
            "15/15 [==============================] - 0s 19ms/step - loss: 2.2108 - categorical_accuracy: 0.2957 - val_loss: 2.1312 - val_categorical_accuracy: 0.3388\n",
            "Epoch 69/100\n",
            "15/15 [==============================] - 0s 21ms/step - loss: 2.2141 - categorical_accuracy: 0.3016 - val_loss: 2.1293 - val_categorical_accuracy: 0.3398\n",
            "Epoch 70/100\n",
            "15/15 [==============================] - 0s 20ms/step - loss: 2.2094 - categorical_accuracy: 0.3049 - val_loss: 2.1248 - val_categorical_accuracy: 0.3462\n",
            "Epoch 71/100\n",
            "15/15 [==============================] - 0s 19ms/step - loss: 2.2017 - categorical_accuracy: 0.3076 - val_loss: 2.1242 - val_categorical_accuracy: 0.3467\n",
            "Epoch 72/100\n",
            "15/15 [==============================] - 0s 19ms/step - loss: 2.1873 - categorical_accuracy: 0.3114 - val_loss: 2.1190 - val_categorical_accuracy: 0.3519\n",
            "Epoch 73/100\n",
            "15/15 [==============================] - 0s 19ms/step - loss: 2.1934 - categorical_accuracy: 0.3091 - val_loss: 2.1173 - val_categorical_accuracy: 0.3504\n",
            "Epoch 74/100\n",
            "15/15 [==============================] - 0s 19ms/step - loss: 2.1893 - categorical_accuracy: 0.3069 - val_loss: 2.1147 - val_categorical_accuracy: 0.3504\n",
            "Epoch 75/100\n",
            "15/15 [==============================] - 0s 20ms/step - loss: 2.1816 - categorical_accuracy: 0.3099 - val_loss: 2.1111 - val_categorical_accuracy: 0.3546\n",
            "Epoch 76/100\n",
            "15/15 [==============================] - 0s 20ms/step - loss: 2.1847 - categorical_accuracy: 0.3132 - val_loss: 2.1068 - val_categorical_accuracy: 0.3567\n",
            "Epoch 77/100\n",
            "15/15 [==============================] - 0s 19ms/step - loss: 2.1800 - categorical_accuracy: 0.3128 - val_loss: 2.1064 - val_categorical_accuracy: 0.3556\n",
            "Epoch 78/100\n",
            "15/15 [==============================] - 0s 19ms/step - loss: 2.1793 - categorical_accuracy: 0.3135 - val_loss: 2.1036 - val_categorical_accuracy: 0.3556\n",
            "Epoch 79/100\n",
            "15/15 [==============================] - 0s 19ms/step - loss: 2.1773 - categorical_accuracy: 0.3172 - val_loss: 2.0993 - val_categorical_accuracy: 0.3599\n",
            "Epoch 80/100\n",
            "15/15 [==============================] - 0s 19ms/step - loss: 2.1691 - categorical_accuracy: 0.3238 - val_loss: 2.0977 - val_categorical_accuracy: 0.3593\n",
            "Epoch 81/100\n",
            "15/15 [==============================] - 0s 19ms/step - loss: 2.1745 - categorical_accuracy: 0.3123 - val_loss: 2.0956 - val_categorical_accuracy: 0.3593\n",
            "Epoch 82/100\n",
            "15/15 [==============================] - 0s 19ms/step - loss: 2.1669 - categorical_accuracy: 0.3238 - val_loss: 2.0918 - val_categorical_accuracy: 0.3620\n",
            "Epoch 83/100\n",
            "15/15 [==============================] - 0s 20ms/step - loss: 2.1740 - categorical_accuracy: 0.3131 - val_loss: 2.0908 - val_categorical_accuracy: 0.3625\n",
            "Epoch 84/100\n",
            "15/15 [==============================] - 0s 18ms/step - loss: 2.1710 - categorical_accuracy: 0.3190 - val_loss: 2.0883 - val_categorical_accuracy: 0.3625\n",
            "Epoch 85/100\n",
            "15/15 [==============================] - 0s 20ms/step - loss: 2.1569 - categorical_accuracy: 0.3249 - val_loss: 2.0859 - val_categorical_accuracy: 0.3635\n",
            "Epoch 86/100\n",
            "15/15 [==============================] - 0s 20ms/step - loss: 2.1554 - categorical_accuracy: 0.3182 - val_loss: 2.0840 - val_categorical_accuracy: 0.3651\n",
            "Epoch 87/100\n",
            "15/15 [==============================] - 0s 19ms/step - loss: 2.1645 - categorical_accuracy: 0.3157 - val_loss: 2.0830 - val_categorical_accuracy: 0.3678\n",
            "Epoch 88/100\n",
            "15/15 [==============================] - 0s 19ms/step - loss: 2.1519 - categorical_accuracy: 0.3184 - val_loss: 2.0804 - val_categorical_accuracy: 0.3630\n",
            "Epoch 89/100\n",
            "15/15 [==============================] - 0s 19ms/step - loss: 2.1515 - categorical_accuracy: 0.3263 - val_loss: 2.0795 - val_categorical_accuracy: 0.3656\n",
            "Epoch 90/100\n",
            "15/15 [==============================] - 0s 20ms/step - loss: 2.1404 - categorical_accuracy: 0.3215 - val_loss: 2.0769 - val_categorical_accuracy: 0.3656\n",
            "Epoch 91/100\n",
            "15/15 [==============================] - 0s 19ms/step - loss: 2.1459 - categorical_accuracy: 0.3244 - val_loss: 2.0745 - val_categorical_accuracy: 0.3688\n",
            "Epoch 92/100\n",
            "15/15 [==============================] - 0s 20ms/step - loss: 2.1474 - categorical_accuracy: 0.3240 - val_loss: 2.0730 - val_categorical_accuracy: 0.3678\n",
            "Epoch 93/100\n",
            "15/15 [==============================] - 0s 19ms/step - loss: 2.1445 - categorical_accuracy: 0.3218 - val_loss: 2.0708 - val_categorical_accuracy: 0.3667\n",
            "Epoch 94/100\n",
            "15/15 [==============================] - 0s 20ms/step - loss: 2.1445 - categorical_accuracy: 0.3252 - val_loss: 2.0694 - val_categorical_accuracy: 0.3667\n",
            "Epoch 95/100\n",
            "15/15 [==============================] - 0s 20ms/step - loss: 2.1390 - categorical_accuracy: 0.3230 - val_loss: 2.0676 - val_categorical_accuracy: 0.3720\n",
            "Epoch 96/100\n",
            "15/15 [==============================] - 0s 20ms/step - loss: 2.1369 - categorical_accuracy: 0.3261 - val_loss: 2.0643 - val_categorical_accuracy: 0.3699\n",
            "Epoch 97/100\n",
            "15/15 [==============================] - 0s 20ms/step - loss: 2.1419 - categorical_accuracy: 0.3282 - val_loss: 2.0652 - val_categorical_accuracy: 0.3704\n",
            "Epoch 98/100\n",
            "15/15 [==============================] - 0s 19ms/step - loss: 2.1235 - categorical_accuracy: 0.3327 - val_loss: 2.0622 - val_categorical_accuracy: 0.3704\n",
            "Epoch 99/100\n",
            "15/15 [==============================] - 0s 20ms/step - loss: 2.1352 - categorical_accuracy: 0.3282 - val_loss: 2.0609 - val_categorical_accuracy: 0.3720\n",
            "Epoch 100/100\n",
            "15/15 [==============================] - 0s 21ms/step - loss: 2.1190 - categorical_accuracy: 0.3351 - val_loss: 2.0595 - val_categorical_accuracy: 0.3704\n"
          ]
        }
      ],
      "source": [
        "history = model.fit(train_examples,\n",
        "           train_labels,\n",
        "           epochs = 100,\n",
        "           batch_size = 512,\n",
        "           validation_data = (val_examples, val_labels),\n",
        "           verbose = 1)"
      ]
    },
    {
      "cell_type": "code",
      "execution_count": null,
      "metadata": {
        "id": "Onr-T9CKc4P8"
      },
      "outputs": [],
      "source": [
        "# 以下繪製訓練過程中 loss 變化及 accuracy 變化\n",
        "history_dict = history.history\n",
        "# history_dict.keys()\n",
        "acc = history_dict['categorical_accuracy']\n",
        "val_acc = history_dict['val_categorical_accuracy']\n",
        "loss = history_dict['loss']\n",
        "val_loss = history_dict['val_loss']\n",
        "epochs = range(1, len(acc)+1)"
      ]
    },
    {
      "cell_type": "code",
      "execution_count": null,
      "metadata": {
        "colab": {
          "base_uri": "https://localhost:8080/",
          "height": 295
        },
        "id": "APpUQ0zIc4P9",
        "outputId": "7d6b72e6-0e82-46fe-b092-687bac0acda7"
      },
      "outputs": [
        {
          "output_type": "display_data",
          "data": {
            "image/png": "[encoded data removed]",
            "text/plain": [
              "<Figure size 432x288 with 1 Axes>"
            ]
          },
          "metadata": {
            "needs_background": "light"
          }
        }
      ],
      "source": [
        "# \"bo\" is for \"blue dot\"\n",
        "plt.plot(epochs, loss, 'bo', label='Training loss')\n",
        "# b is for \"solid blue line\"\n",
        "plt.plot(epochs, val_loss, 'b', label='Validation loss')\n",
        "plt.title('Training and validation loss')\n",
        "plt.xlabel('Epochs')\n",
        "plt.ylabel('Loss')\n",
        "plt.legend()\n",
        "plt.show()"
      ]
    },
    {
      "cell_type": "code",
      "execution_count": null,
      "metadata": {
        "colab": {
          "base_uri": "https://localhost:8080/",
          "height": 295
        },
        "id": "hFF-uEmgc4P9",
        "outputId": "54184c78-ac9d-4534-9124-966feffe4680"
      },
      "outputs": [
        {
          "output_type": "display_data",
          "data": {
            "image/png": "[encoded data removed]",
            "text/plain": [
              "<Figure size 432x288 with 1 Axes>"
            ]
          },
          "metadata": {
            "needs_background": "light"
          }
        }
      ],
      "source": [
        "plt.clf() #clear figure\n",
        "plt.plot(epochs, acc, 'bo', label='Training acc')\n",
        "plt.plot(epochs, val_acc, 'b', label='Validation acc')\n",
        "plt.title('Training and validation accuracy')\n",
        "plt.xlabel('Epochs')\n",
        "plt.ylabel('Accuracy')\n",
        "plt.legend()\n",
        "plt.show()"
      ]
    },
    {
      "cell_type": "markdown",
      "metadata": {
        "id": "TQATUapYYyLs"
      },
      "source": [
        "##2.add an embedding layer, classify by biLSTM\n",
        "\n",
        "\n",
        "\n"
      ]
    },
    {
      "cell_type": "code",
      "execution_count": null,
      "metadata": {
        "id": "anVfB9QzYxUh"
      },
      "outputs": [],
      "source": [
        "# 請寫一段程式決定 train_examples 中最長的句子的詞數 max_doc_length 。若不會寫，直接設為 256\n",
        "max_doc_length = 256\n",
        "# 請寫一段程式決定 train_labels 中 labels 種類數 label_total 。若不會寫，直接設為 19\n",
        "label_total = 19"
      ]
    },
    {
      "cell_type": "code",
      "execution_count": null,
      "metadata": {
        "colab": {
          "base_uri": "https://localhost:8080/"
        },
        "id": "Xl2IF0lrZE7K",
        "outputId": "4fd75606-0780-467d-a665-d42e2604ca28"
      },
      "outputs": [
        {
          "output_type": "stream",
          "name": "stdout",
          "text": [
            "1000\n"
          ]
        },
        {
          "output_type": "execute_result",
          "data": {
            "text/plain": [
              "['',\n",
              " '[UNK]',\n",
              " '，',\n",
              " '的',\n",
              " '、',\n",
              " '。',\n",
              " '：',\n",
              " '請',\n",
              " '有',\n",
              " '商品',\n",
              " '不',\n",
              " '可',\n",
              " 'cm',\n",
              " '一',\n",
              " '使用',\n",
              " '！',\n",
              " '是',\n",
              " '尺寸',\n",
              " '會',\n",
              " '在']"
            ]
          },
          "metadata": {},
          "execution_count": 5
        }
      ],
      "source": [
        "VOCAB_SIZE = 1000 #只取出現頻率最高的前 1000 個詞當做分類線索，其餘詞視為未知詞 (OOV, out-of-vocabulary)\n",
        "encoder = tf.keras.layers.experimental.preprocessing.TextVectorization(output_sequence_length = max_doc_length, \n",
        "                                     max_tokens = VOCAB_SIZE)\n",
        "encoder.adapt(train_examples)\n",
        "vocab = encoder.get_vocabulary()\n",
        "print(len(vocab))\n",
        "vocab[:20]"
      ]
    },
    {
      "cell_type": "code",
      "execution_count": null,
      "metadata": {
        "colab": {
          "base_uri": "https://localhost:8080/"
        },
        "id": "Os3UtmYLZNQ8",
        "outputId": "fdc28f59-9f82-446a-e1ed-39cd35c948c2"
      },
      "outputs": [
        {
          "output_type": "stream",
          "name": "stdout",
          "text": [
            "Model: \"sequential\"\n",
            "_________________________________________________________________\n",
            " Layer (type)                Output Shape              Param #   \n",
            "=================================================================\n",
            " text_vectorization (TextVec  (None, 256)              0         \n",
            " torization)                                                     \n",
            "                                                                 \n",
            " embedding (Embedding)       (None, 256, 64)           64128     \n",
            "                                                                 \n",
            " bidirectional (Bidirectiona  (None, 256)              197632    \n",
            " l)                                                              \n",
            "                                                                 \n",
            " dense (Dense)               (None, 64)                16448     \n",
            "                                                                 \n",
            " dropout (Dropout)           (None, 64)                0         \n",
            "                                                                 \n",
            " dense_1 (Dense)             (None, 32)                2080      \n",
            "                                                                 \n",
            " dropout_1 (Dropout)         (None, 32)                0         \n",
            "                                                                 \n",
            " dense_2 (Dense)             (None, 19)                627       \n",
            "                                                                 \n",
            "=================================================================\n",
            "Total params: 280,915\n",
            "Trainable params: 280,915\n",
            "Non-trainable params: 0\n",
            "_________________________________________________________________\n"
          ]
        }
      ],
      "source": [
        "model = tf.keras.Sequential()\n",
        "model.add(encoder)\n",
        "model.add(tf.keras.layers.Embedding(\n",
        "     input_dim = len(vocab)+2, #+2是因為 OOV\n",
        "     output_dim = 64,\n",
        "     mask_zero = True)) #Use masking to handle the variable sequence lengths\n",
        "model.add(tf.keras.layers.Bidirectional(tf.keras.layers.LSTM(128)))\n",
        "model.add(tf.keras.layers.Dense(32, activation='relu'))\n",
        "model.add(tf.keras.layers.Dropout(0.2))\n",
        "model.add(tf.keras.layers.Dense(label_total, activation='softmax')) #output layer的神經元要有label_total個，以softmax調整輸出值\n",
        "model.summary()"
      ]
    },
    {
      "cell_type": "code",
      "execution_count": null,
      "metadata": {
        "id": "gZu6cATnsiZZ"
      },
      "outputs": [],
      "source": [
        "# training\n",
        "model.compile(optimizer = 'adam',\n",
        "       loss = tf.losses.CategoricalCrossentropy(from_logits=True),\n",
        "       metrics = [tf.metrics.CategoricalAccuracy()])\n",
        "# 注意範例中 imdb_reviews 只有 0/1 兩種 labels，而作業的 labels 有 19 種\n",
        "# 參數中 loss function 需由 BinaryCrossentropy 改成 CategoricalCrossentropy\n",
        "# 參數中 metrics 需由 BinaryAccuracy 改成 CategoricalAccuracy"
      ]
    },
    {
      "cell_type": "code",
      "execution_count": null,
      "metadata": {
        "colab": {
          "base_uri": "https://localhost:8080/"
        },
        "id": "Ca2jI8brskCe",
        "outputId": "a1059d25-3a4c-494d-9142-436c809553ab"
      },
      "outputs": [
        {
          "output_type": "stream",
          "name": "stdout",
          "text": [
            "Epoch 1/100\n"
          ]
        },
        {
          "output_type": "stream",
          "name": "stderr",
          "text": [
            "/usr/local/lib/python3.7/dist-packages/tensorflow/python/util/dispatch.py:1096: UserWarning: \"`categorical_crossentropy` received `from_logits=True`, but the `output` argument was produced by a sigmoid or softmax activation and thus does not represent logits. Was this intended?\"\n",
            "  return dispatch_target(*args, **kwargs)\n"
          ]
        },
        {
          "output_type": "stream",
          "name": "stdout",
          "text": [
            "15/15 [==============================] - 13s 257ms/step - loss: 2.9424 - categorical_accuracy: 0.0570 - val_loss: 2.9359 - val_categorical_accuracy: 0.0674\n",
            "Epoch 2/100\n",
            "15/15 [==============================] - 1s 96ms/step - loss: 2.9040 - categorical_accuracy: 0.0782 - val_loss: 2.8406 - val_categorical_accuracy: 0.0817\n",
            "Epoch 3/100\n",
            "15/15 [==============================] - 1s 93ms/step - loss: 2.8009 - categorical_accuracy: 0.0950 - val_loss: 2.6831 - val_categorical_accuracy: 0.1201\n",
            "Epoch 4/100\n",
            "15/15 [==============================] - 1s 93ms/step - loss: 2.6734 - categorical_accuracy: 0.1224 - val_loss: 2.5746 - val_categorical_accuracy: 0.1538\n",
            "Epoch 5/100\n",
            "15/15 [==============================] - 1s 94ms/step - loss: 2.5770 - categorical_accuracy: 0.1479 - val_loss: 2.5072 - val_categorical_accuracy: 0.1939\n",
            "Epoch 6/100\n",
            "15/15 [==============================] - 1s 94ms/step - loss: 2.4892 - categorical_accuracy: 0.1727 - val_loss: 2.3950 - val_categorical_accuracy: 0.2007\n",
            "Epoch 7/100\n",
            "15/15 [==============================] - 1s 92ms/step - loss: 2.3907 - categorical_accuracy: 0.1955 - val_loss: 2.3005 - val_categorical_accuracy: 0.2329\n",
            "Epoch 8/100\n",
            "15/15 [==============================] - 1s 95ms/step - loss: 2.3226 - categorical_accuracy: 0.2227 - val_loss: 2.2187 - val_categorical_accuracy: 0.2771\n",
            "Epoch 9/100\n",
            "15/15 [==============================] - 1s 93ms/step - loss: 2.1948 - categorical_accuracy: 0.2611 - val_loss: 2.1173 - val_categorical_accuracy: 0.3151\n",
            "Epoch 10/100\n",
            "15/15 [==============================] - 1s 93ms/step - loss: 2.0773 - categorical_accuracy: 0.2952 - val_loss: 2.0131 - val_categorical_accuracy: 0.3477\n",
            "Epoch 11/100\n",
            "15/15 [==============================] - 1s 93ms/step - loss: 1.9527 - categorical_accuracy: 0.3352 - val_loss: 1.9139 - val_categorical_accuracy: 0.3572\n",
            "Epoch 12/100\n",
            "15/15 [==============================] - 1s 93ms/step - loss: 1.8364 - categorical_accuracy: 0.3683 - val_loss: 1.8630 - val_categorical_accuracy: 0.3857\n",
            "Epoch 13/100\n",
            "15/15 [==============================] - 1s 93ms/step - loss: 1.7268 - categorical_accuracy: 0.3987 - val_loss: 1.7405 - val_categorical_accuracy: 0.4189\n",
            "Epoch 14/100\n",
            "15/15 [==============================] - 1s 94ms/step - loss: 1.6980 - categorical_accuracy: 0.4127 - val_loss: 1.7003 - val_categorical_accuracy: 0.4394\n",
            "Epoch 15/100\n",
            "15/15 [==============================] - 1s 95ms/step - loss: 1.6200 - categorical_accuracy: 0.4440 - val_loss: 1.6831 - val_categorical_accuracy: 0.4468\n",
            "Epoch 16/100\n",
            "15/15 [==============================] - 1s 94ms/step - loss: 1.5349 - categorical_accuracy: 0.4729 - val_loss: 1.6344 - val_categorical_accuracy: 0.4758\n",
            "Epoch 17/100\n",
            "15/15 [==============================] - 1s 93ms/step - loss: 1.4469 - categorical_accuracy: 0.5083 - val_loss: 1.6003 - val_categorical_accuracy: 0.4868\n",
            "Epoch 18/100\n",
            "15/15 [==============================] - 1s 93ms/step - loss: 1.3794 - categorical_accuracy: 0.5357 - val_loss: 1.5504 - val_categorical_accuracy: 0.5090\n",
            "Epoch 19/100\n",
            "15/15 [==============================] - 1s 93ms/step - loss: 1.3256 - categorical_accuracy: 0.5609 - val_loss: 1.5576 - val_categorical_accuracy: 0.5100\n",
            "Epoch 20/100\n",
            "15/15 [==============================] - 1s 93ms/step - loss: 1.2767 - categorical_accuracy: 0.5777 - val_loss: 1.5312 - val_categorical_accuracy: 0.5237\n",
            "Epoch 21/100\n",
            "15/15 [==============================] - 1s 95ms/step - loss: 1.2250 - categorical_accuracy: 0.5918 - val_loss: 1.5489 - val_categorical_accuracy: 0.5358\n",
            "Epoch 22/100\n",
            "15/15 [==============================] - 1s 95ms/step - loss: 1.1912 - categorical_accuracy: 0.6131 - val_loss: 1.5428 - val_categorical_accuracy: 0.5395\n",
            "Epoch 23/100\n",
            "15/15 [==============================] - 1s 93ms/step - loss: 1.1588 - categorical_accuracy: 0.6243 - val_loss: 1.5513 - val_categorical_accuracy: 0.5321\n",
            "Epoch 24/100\n",
            "15/15 [==============================] - 1s 95ms/step - loss: 1.1522 - categorical_accuracy: 0.6362 - val_loss: 1.5052 - val_categorical_accuracy: 0.5558\n",
            "Epoch 25/100\n",
            "15/15 [==============================] - 1s 94ms/step - loss: 1.1043 - categorical_accuracy: 0.6429 - val_loss: 1.5294 - val_categorical_accuracy: 0.5522\n",
            "Epoch 26/100\n",
            "15/15 [==============================] - 1s 93ms/step - loss: 1.1362 - categorical_accuracy: 0.6321 - val_loss: 1.5131 - val_categorical_accuracy: 0.5464\n",
            "Epoch 27/100\n",
            "15/15 [==============================] - 1s 94ms/step - loss: 1.0671 - categorical_accuracy: 0.6578 - val_loss: 1.4734 - val_categorical_accuracy: 0.5611\n",
            "Epoch 28/100\n",
            "15/15 [==============================] - 1s 93ms/step - loss: 1.0040 - categorical_accuracy: 0.6811 - val_loss: 1.5033 - val_categorical_accuracy: 0.5738\n",
            "Epoch 29/100\n",
            "15/15 [==============================] - 1s 93ms/step - loss: 1.0028 - categorical_accuracy: 0.6886 - val_loss: 1.4753 - val_categorical_accuracy: 0.5753\n",
            "Epoch 30/100\n",
            "15/15 [==============================] - 1s 94ms/step - loss: 0.9552 - categorical_accuracy: 0.7055 - val_loss: 1.4985 - val_categorical_accuracy: 0.5732\n",
            "Epoch 31/100\n",
            "15/15 [==============================] - 1s 93ms/step - loss: 0.9525 - categorical_accuracy: 0.7060 - val_loss: 1.4699 - val_categorical_accuracy: 0.5906\n",
            "Epoch 32/100\n",
            "15/15 [==============================] - 1s 93ms/step - loss: 0.8992 - categorical_accuracy: 0.7212 - val_loss: 1.6147 - val_categorical_accuracy: 0.5738\n",
            "Epoch 33/100\n",
            "15/15 [==============================] - 1s 94ms/step - loss: 1.0632 - categorical_accuracy: 0.6754 - val_loss: 1.5707 - val_categorical_accuracy: 0.5690\n",
            "Epoch 34/100\n",
            "15/15 [==============================] - 1s 94ms/step - loss: 0.9914 - categorical_accuracy: 0.6878 - val_loss: 1.5203 - val_categorical_accuracy: 0.5780\n",
            "Epoch 35/100\n",
            "15/15 [==============================] - 1s 95ms/step - loss: 0.9090 - categorical_accuracy: 0.7134 - val_loss: 1.4613 - val_categorical_accuracy: 0.6027\n",
            "Epoch 36/100\n",
            "15/15 [==============================] - 1s 95ms/step - loss: 0.8904 - categorical_accuracy: 0.7250 - val_loss: 1.5335 - val_categorical_accuracy: 0.5859\n",
            "Epoch 37/100\n",
            "15/15 [==============================] - 1s 94ms/step - loss: 0.8826 - categorical_accuracy: 0.7279 - val_loss: 1.5129 - val_categorical_accuracy: 0.5996\n",
            "Epoch 38/100\n",
            "15/15 [==============================] - 1s 95ms/step - loss: 0.8254 - categorical_accuracy: 0.7449 - val_loss: 1.4787 - val_categorical_accuracy: 0.6085\n",
            "Epoch 39/100\n",
            "15/15 [==============================] - 1s 95ms/step - loss: 0.7891 - categorical_accuracy: 0.7638 - val_loss: 1.5737 - val_categorical_accuracy: 0.6064\n",
            "Epoch 40/100\n",
            "15/15 [==============================] - 1s 94ms/step - loss: 0.7781 - categorical_accuracy: 0.7543 - val_loss: 1.5471 - val_categorical_accuracy: 0.6059\n",
            "Epoch 41/100\n",
            "15/15 [==============================] - 1s 95ms/step - loss: 0.7589 - categorical_accuracy: 0.7637 - val_loss: 1.5815 - val_categorical_accuracy: 0.6122\n",
            "Epoch 42/100\n",
            "15/15 [==============================] - 1s 94ms/step - loss: 0.7398 - categorical_accuracy: 0.7748 - val_loss: 1.5468 - val_categorical_accuracy: 0.6133\n",
            "Epoch 43/100\n",
            "15/15 [==============================] - 1s 94ms/step - loss: 0.7183 - categorical_accuracy: 0.7783 - val_loss: 1.5604 - val_categorical_accuracy: 0.6238\n",
            "Epoch 44/100\n",
            "15/15 [==============================] - 1s 94ms/step - loss: 0.7373 - categorical_accuracy: 0.7717 - val_loss: 1.5565 - val_categorical_accuracy: 0.6175\n",
            "Epoch 45/100\n",
            "15/15 [==============================] - 1s 94ms/step - loss: 0.7227 - categorical_accuracy: 0.7756 - val_loss: 1.6332 - val_categorical_accuracy: 0.6196\n",
            "Epoch 46/100\n",
            "15/15 [==============================] - 1s 95ms/step - loss: 0.6942 - categorical_accuracy: 0.7906 - val_loss: 1.6314 - val_categorical_accuracy: 0.6185\n",
            "Epoch 47/100\n",
            "15/15 [==============================] - 1s 94ms/step - loss: 0.6592 - categorical_accuracy: 0.7987 - val_loss: 1.6599 - val_categorical_accuracy: 0.6228\n",
            "Epoch 48/100\n",
            "15/15 [==============================] - 1s 96ms/step - loss: 0.6249 - categorical_accuracy: 0.8136 - val_loss: 1.6589 - val_categorical_accuracy: 0.6270\n",
            "Epoch 49/100\n",
            "15/15 [==============================] - 1s 96ms/step - loss: 0.6178 - categorical_accuracy: 0.8102 - val_loss: 1.6849 - val_categorical_accuracy: 0.6101\n",
            "Epoch 50/100\n",
            "15/15 [==============================] - 1s 94ms/step - loss: 0.6306 - categorical_accuracy: 0.8057 - val_loss: 1.7513 - val_categorical_accuracy: 0.6238\n",
            "Epoch 51/100\n",
            "15/15 [==============================] - 1s 94ms/step - loss: 0.6066 - categorical_accuracy: 0.8136 - val_loss: 1.7344 - val_categorical_accuracy: 0.6207\n",
            "Epoch 52/100\n",
            "15/15 [==============================] - 1s 95ms/step - loss: 0.5845 - categorical_accuracy: 0.8219 - val_loss: 1.7085 - val_categorical_accuracy: 0.6233\n",
            "Epoch 53/100\n",
            "15/15 [==============================] - 1s 95ms/step - loss: 0.5746 - categorical_accuracy: 0.8260 - val_loss: 1.7673 - val_categorical_accuracy: 0.6222\n",
            "Epoch 54/100\n",
            "15/15 [==============================] - 1s 94ms/step - loss: 0.5519 - categorical_accuracy: 0.8325 - val_loss: 1.8685 - val_categorical_accuracy: 0.6191\n",
            "Epoch 55/100\n",
            "15/15 [==============================] - 1s 95ms/step - loss: 0.5678 - categorical_accuracy: 0.8306 - val_loss: 1.7379 - val_categorical_accuracy: 0.6212\n",
            "Epoch 56/100\n",
            "15/15 [==============================] - 1s 95ms/step - loss: 0.5787 - categorical_accuracy: 0.8260 - val_loss: 1.7448 - val_categorical_accuracy: 0.6149\n",
            "Epoch 57/100\n",
            "15/15 [==============================] - 1s 96ms/step - loss: 0.5552 - categorical_accuracy: 0.8335 - val_loss: 1.8228 - val_categorical_accuracy: 0.6217\n",
            "Epoch 58/100\n",
            "15/15 [==============================] - 1s 96ms/step - loss: 0.5234 - categorical_accuracy: 0.8451 - val_loss: 1.8563 - val_categorical_accuracy: 0.6217\n",
            "Epoch 59/100\n",
            "15/15 [==============================] - 1s 96ms/step - loss: 0.5190 - categorical_accuracy: 0.8467 - val_loss: 1.8749 - val_categorical_accuracy: 0.6228\n",
            "Epoch 60/100\n",
            "15/15 [==============================] - 1s 96ms/step - loss: 0.4868 - categorical_accuracy: 0.8560 - val_loss: 1.8044 - val_categorical_accuracy: 0.6328\n",
            "Epoch 61/100\n",
            "15/15 [==============================] - 1s 94ms/step - loss: 0.4827 - categorical_accuracy: 0.8531 - val_loss: 1.8265 - val_categorical_accuracy: 0.6212\n",
            "Epoch 62/100\n",
            "15/15 [==============================] - 1s 94ms/step - loss: 0.4880 - categorical_accuracy: 0.8542 - val_loss: 1.9168 - val_categorical_accuracy: 0.6191\n",
            "Epoch 63/100\n",
            "15/15 [==============================] - 1s 94ms/step - loss: 0.4435 - categorical_accuracy: 0.8653 - val_loss: 1.9769 - val_categorical_accuracy: 0.6243\n",
            "Epoch 64/100\n",
            "15/15 [==============================] - 1s 95ms/step - loss: 0.4573 - categorical_accuracy: 0.8581 - val_loss: 1.9814 - val_categorical_accuracy: 0.6196\n",
            "Epoch 65/100\n",
            "15/15 [==============================] - 1s 94ms/step - loss: 0.4728 - categorical_accuracy: 0.8617 - val_loss: 1.8696 - val_categorical_accuracy: 0.6349\n",
            "Epoch 66/100\n",
            "15/15 [==============================] - 1s 95ms/step - loss: 0.4926 - categorical_accuracy: 0.8527 - val_loss: 1.9551 - val_categorical_accuracy: 0.6196\n",
            "Epoch 67/100\n",
            "15/15 [==============================] - 1s 95ms/step - loss: 0.5085 - categorical_accuracy: 0.8492 - val_loss: 1.8935 - val_categorical_accuracy: 0.6006\n",
            "Epoch 68/100\n",
            "15/15 [==============================] - 1s 95ms/step - loss: 0.6057 - categorical_accuracy: 0.8131 - val_loss: 1.7996 - val_categorical_accuracy: 0.6106\n",
            "Epoch 69/100\n",
            "15/15 [==============================] - 1s 95ms/step - loss: 0.5305 - categorical_accuracy: 0.8419 - val_loss: 1.8392 - val_categorical_accuracy: 0.6243\n",
            "Epoch 70/100\n",
            "15/15 [==============================] - 1s 94ms/step - loss: 0.4848 - categorical_accuracy: 0.8535 - val_loss: 1.8512 - val_categorical_accuracy: 0.6222\n",
            "Epoch 71/100\n",
            "15/15 [==============================] - 1s 95ms/step - loss: 0.4666 - categorical_accuracy: 0.8622 - val_loss: 1.9470 - val_categorical_accuracy: 0.6359\n",
            "Epoch 72/100\n",
            "15/15 [==============================] - 1s 96ms/step - loss: 0.4301 - categorical_accuracy: 0.8747 - val_loss: 2.0036 - val_categorical_accuracy: 0.6349\n",
            "Epoch 73/100\n",
            "15/15 [==============================] - 1s 96ms/step - loss: 0.4412 - categorical_accuracy: 0.8660 - val_loss: 1.9092 - val_categorical_accuracy: 0.6280\n",
            "Epoch 74/100\n",
            "15/15 [==============================] - 1s 94ms/step - loss: 0.4063 - categorical_accuracy: 0.8792 - val_loss: 2.0215 - val_categorical_accuracy: 0.6296\n",
            "Epoch 75/100\n",
            "15/15 [==============================] - 1s 94ms/step - loss: 0.3774 - categorical_accuracy: 0.8928 - val_loss: 2.1318 - val_categorical_accuracy: 0.6296\n",
            "Epoch 76/100\n",
            "15/15 [==============================] - 1s 96ms/step - loss: 0.3734 - categorical_accuracy: 0.8894 - val_loss: 2.1083 - val_categorical_accuracy: 0.6243\n",
            "Epoch 77/100\n",
            "15/15 [==============================] - 1s 96ms/step - loss: 0.3792 - categorical_accuracy: 0.8865 - val_loss: 2.0882 - val_categorical_accuracy: 0.6333\n",
            "Epoch 78/100\n",
            "15/15 [==============================] - 1s 95ms/step - loss: 0.3476 - categorical_accuracy: 0.8952 - val_loss: 2.1677 - val_categorical_accuracy: 0.6380\n",
            "Epoch 79/100\n",
            "15/15 [==============================] - 1s 94ms/step - loss: 0.3253 - categorical_accuracy: 0.9044 - val_loss: 2.2410 - val_categorical_accuracy: 0.6344\n",
            "Epoch 80/100\n",
            "15/15 [==============================] - 1s 95ms/step - loss: 0.3306 - categorical_accuracy: 0.9020 - val_loss: 2.2281 - val_categorical_accuracy: 0.6354\n",
            "Epoch 81/100\n",
            "15/15 [==============================] - 1s 96ms/step - loss: 0.3165 - categorical_accuracy: 0.9060 - val_loss: 2.3329 - val_categorical_accuracy: 0.6238\n",
            "Epoch 82/100\n",
            "15/15 [==============================] - 1s 95ms/step - loss: 0.3092 - categorical_accuracy: 0.9104 - val_loss: 2.3244 - val_categorical_accuracy: 0.6412\n",
            "Epoch 83/100\n",
            "15/15 [==============================] - 1s 96ms/step - loss: 0.3476 - categorical_accuracy: 0.8981 - val_loss: 2.2952 - val_categorical_accuracy: 0.6243\n",
            "Epoch 84/100\n",
            "15/15 [==============================] - 1s 94ms/step - loss: 0.3305 - categorical_accuracy: 0.9020 - val_loss: 2.2276 - val_categorical_accuracy: 0.6307\n",
            "Epoch 85/100\n",
            "15/15 [==============================] - 1s 94ms/step - loss: 0.3577 - categorical_accuracy: 0.8949 - val_loss: 2.3658 - val_categorical_accuracy: 0.6112\n",
            "Epoch 86/100\n",
            "15/15 [==============================] - 1s 96ms/step - loss: 0.3507 - categorical_accuracy: 0.8953 - val_loss: 2.2949 - val_categorical_accuracy: 0.6275\n",
            "Epoch 87/100\n",
            "15/15 [==============================] - 1s 94ms/step - loss: 0.3035 - categorical_accuracy: 0.9098 - val_loss: 2.2742 - val_categorical_accuracy: 0.6386\n",
            "Epoch 88/100\n",
            "15/15 [==============================] - 1s 95ms/step - loss: 0.3261 - categorical_accuracy: 0.9066 - val_loss: 2.3429 - val_categorical_accuracy: 0.6333\n",
            "Epoch 89/100\n",
            "15/15 [==============================] - 1s 94ms/step - loss: 0.3098 - categorical_accuracy: 0.9100 - val_loss: 2.2664 - val_categorical_accuracy: 0.6333\n",
            "Epoch 90/100\n",
            "15/15 [==============================] - 1s 94ms/step - loss: 0.2902 - categorical_accuracy: 0.9181 - val_loss: 2.3132 - val_categorical_accuracy: 0.6370\n",
            "Epoch 91/100\n",
            "15/15 [==============================] - 1s 96ms/step - loss: 0.2907 - categorical_accuracy: 0.9169 - val_loss: 2.4471 - val_categorical_accuracy: 0.6286\n",
            "Epoch 92/100\n",
            "15/15 [==============================] - 1s 94ms/step - loss: 0.2817 - categorical_accuracy: 0.9195 - val_loss: 2.4517 - val_categorical_accuracy: 0.6359\n",
            "Epoch 93/100\n",
            "15/15 [==============================] - 1s 95ms/step - loss: 0.2554 - categorical_accuracy: 0.9220 - val_loss: 2.5367 - val_categorical_accuracy: 0.6328\n",
            "Epoch 94/100\n",
            "15/15 [==============================] - 1s 95ms/step - loss: 0.2348 - categorical_accuracy: 0.9297 - val_loss: 2.5297 - val_categorical_accuracy: 0.6312\n",
            "Epoch 95/100\n",
            "15/15 [==============================] - 1s 95ms/step - loss: 0.2434 - categorical_accuracy: 0.9312 - val_loss: 2.4891 - val_categorical_accuracy: 0.6375\n",
            "Epoch 96/100\n",
            "15/15 [==============================] - 1s 96ms/step - loss: 0.2226 - categorical_accuracy: 0.9339 - val_loss: 2.7406 - val_categorical_accuracy: 0.6222\n",
            "Epoch 97/100\n",
            "15/15 [==============================] - 1s 95ms/step - loss: 0.2269 - categorical_accuracy: 0.9310 - val_loss: 2.5501 - val_categorical_accuracy: 0.6322\n",
            "Epoch 98/100\n",
            "15/15 [==============================] - 1s 95ms/step - loss: 0.2344 - categorical_accuracy: 0.9308 - val_loss: 2.6678 - val_categorical_accuracy: 0.6222\n",
            "Epoch 99/100\n",
            "15/15 [==============================] - 1s 95ms/step - loss: 0.2617 - categorical_accuracy: 0.9198 - val_loss: 2.6421 - val_categorical_accuracy: 0.6380\n",
            "Epoch 100/100\n",
            "15/15 [==============================] - 1s 94ms/step - loss: 0.2407 - categorical_accuracy: 0.9299 - val_loss: 2.5033 - val_categorical_accuracy: 0.6328\n"
          ]
        }
      ],
      "source": [
        "history = model.fit(train_examples,\n",
        "           train_labels,\n",
        "           epochs = 100,\n",
        "           batch_size = 512,\n",
        "           validation_data = (val_examples, val_labels),\n",
        "           verbose = 1)"
      ]
    },
    {
      "cell_type": "code",
      "execution_count": null,
      "metadata": {
        "id": "AutQQ7eYst8W"
      },
      "outputs": [],
      "source": [
        "# 以下繪製訓練過程中 loss 變化及 accuracy 變化\n",
        "history_dict = history.history\n",
        "# history_dict.keys()\n",
        "acc = history_dict['categorical_accuracy']\n",
        "val_acc = history_dict['val_categorical_accuracy']\n",
        "loss = history_dict['loss']\n",
        "val_loss = history_dict['val_loss']\n",
        "epochs = range(1, len(acc)+1)"
      ]
    },
    {
      "cell_type": "code",
      "execution_count": null,
      "metadata": {
        "colab": {
          "base_uri": "https://localhost:8080/",
          "height": 295
        },
        "id": "P5GH8Ei7swI2",
        "outputId": "29582e67-ed00-44ec-a538-f0bc331322b3"
      },
      "outputs": [
        {
          "output_type": "display_data",
          "data": {
            "image/png": "[encoded data removed]",
            "text/plain": [
              "<Figure size 432x288 with 1 Axes>"
            ]
          },
          "metadata": {
            "needs_background": "light"
          }
        }
      ],
      "source": [
        "# \"bo\" is for \"blue dot\"\n",
        "plt.plot(epochs, loss, 'bo', label='Training loss')\n",
        "# b is for \"solid blue line\"\n",
        "plt.plot(epochs, val_loss, 'b', label='Validation loss')\n",
        "plt.title('Training and validation loss')\n",
        "plt.xlabel('Epochs')\n",
        "plt.ylabel('Loss')\n",
        "plt.legend()\n",
        "plt.show()"
      ]
    },
    {
      "cell_type": "code",
      "execution_count": null,
      "metadata": {
        "colab": {
          "base_uri": "https://localhost:8080/",
          "height": 295
        },
        "id": "-A_701ansxji",
        "outputId": "1d55d4ac-ed5c-4608-8e1c-9a19c5465c97"
      },
      "outputs": [
        {
          "output_type": "display_data",
          "data": {
            "image/png": "[encoded data removed]",
            "text/plain": [
              "<Figure size 432x288 with 1 Axes>"
            ]
          },
          "metadata": {
            "needs_background": "light"
          }
        }
      ],
      "source": [
        "plt.clf() #clear figure\n",
        "plt.plot(epochs, acc, 'bo', label='Training acc')\n",
        "plt.plot(epochs, val_acc, 'b', label='Validation acc')\n",
        "plt.title('Training and validation accuracy')\n",
        "plt.xlabel('Epochs')\n",
        "plt.ylabel('Accuracy')\n",
        "plt.legend()\n",
        "plt.show()"
      ]
    },
    {
      "cell_type": "markdown",
      "metadata": {
        "id": "EgSqNIR0nD1h"
      },
      "source": [
        "##3.add an embedding layer,but use pre-trained embedding model"
      ]
    },
    {
      "cell_type": "code",
      "execution_count": null,
      "metadata": {
        "id": "JyMiPZL6nGDu"
      },
      "outputs": [],
      "source": [
        "# 請寫一段程式決定 train_examples 中最長的句子的詞數 max_doc_length 。若不會寫，直接設為 256\n",
        "max_doc_length = 256\n",
        "# 請寫一段程式決定 train_labels 中 labels 種類數 label_total 。若不會寫，直接設為 19\n",
        "label_total = 19"
      ]
    },
    {
      "cell_type": "code",
      "execution_count": null,
      "metadata": {
        "colab": {
          "base_uri": "https://localhost:8080/"
        },
        "id": "gbPAcPmRtLE5",
        "outputId": "36cbaa38-8f3b-47af-b5b7-bc3a8eee3c9d"
      },
      "outputs": [
        {
          "output_type": "stream",
          "name": "stdout",
          "text": [
            "1000\n"
          ]
        }
      ],
      "source": [
        "VOCAB_SIZE = 1000 #只取出現頻率最高的前1000個詞當做分類線索，其餘詞視為未知詞(OOV, out-of-vocabulary)\n",
        "encoder = tf.keras.layers.experimental.preprocessing.TextVectorization(output_sequence_length = max_doc_length, \n",
        "                                     max_tokens = VOCAB_SIZE)\n",
        "encoder.adapt(train_examples)\n",
        "vocab = encoder.get_vocabulary()\n",
        "print(len(vocab))"
      ]
    },
    {
      "cell_type": "code",
      "execution_count": null,
      "metadata": {
        "colab": {
          "base_uri": "https://localhost:8080/"
        },
        "id": "rih1SAk3tRvs",
        "outputId": "be71da9f-c715-4d18-8ebe-f9285fab723d"
      },
      "outputs": [
        {
          "output_type": "stream",
          "name": "stdout",
          "text": [
            "(2, 50)\n",
            "(1002, 50)\n"
          ]
        }
      ],
      "source": [
        "# 轉成Embedding層的input vector\n",
        "embed_data = np.zeros((2, 50))\n",
        "print((embed_data.shape))\n",
        "# 此行表示 word embedding 資料直接至網路下載，而且是英文的。原範例程式說明有 4 種英文 embeddings 可選擇，請參考\n",
        "embed_url = \"https://tfhub.dev/google/nnlm-zh-dim50/2\"\n",
        "\n",
        "# 若要使用中文 embeddings，把網址中的 nnlm-en 改成 nnlm-zh 即可\n",
        "\n",
        "embed = hub.KerasLayer(embed_url, input_shape=[], dtype=tf.string, trainable=False)\n",
        "embed_data = np.append(embed_data, embed([data for data in vocab]), axis=0)\n",
        "print(embed_data.shape)"
      ]
    },
    {
      "cell_type": "code",
      "execution_count": null,
      "metadata": {
        "colab": {
          "base_uri": "https://localhost:8080/"
        },
        "id": "hVOjt2YLzozj",
        "outputId": "fc5bd139-5743-476b-f1aa-055bc2c12a54"
      },
      "outputs": [
        {
          "output_type": "stream",
          "name": "stdout",
          "text": [
            "Model: \"sequential_1\"\n",
            "_________________________________________________________________\n",
            " Layer (type)                Output Shape              Param #   \n",
            "=================================================================\n",
            " text_vectorization_2 (TextV  (None, 256)              0         \n",
            " ectorization)                                                   \n",
            "                                                                 \n",
            " embedding_1 (Embedding)     (None, 256, 50)           50100     \n",
            "                                                                 \n",
            " conv1d_3 (Conv1D)           (None, 252, 128)          32128     \n",
            "                                                                 \n",
            " max_pooling1d_2 (MaxPooling  (None, 50, 128)          0         \n",
            " 1D)                                                             \n",
            "                                                                 \n",
            " dropout_3 (Dropout)         (None, 50, 128)           0         \n",
            "                                                                 \n",
            " conv1d_4 (Conv1D)           (None, 46, 64)            41024     \n",
            "                                                                 \n",
            " max_pooling1d_3 (MaxPooling  (None, 9, 64)            0         \n",
            " 1D)                                                             \n",
            "                                                                 \n",
            " dropout_4 (Dropout)         (None, 9, 64)             0         \n",
            "                                                                 \n",
            " conv1d_5 (Conv1D)           (None, 5, 32)             10272     \n",
            "                                                                 \n",
            " global_max_pooling1d_1 (Glo  (None, 32)               0         \n",
            " balMaxPooling1D)                                                \n",
            "                                                                 \n",
            " dropout_5 (Dropout)         (None, 32)                0         \n",
            "                                                                 \n",
            " dense_1 (Dense)             (None, 19)                627       \n",
            "                                                                 \n",
            "=================================================================\n",
            "Total params: 134,151\n",
            "Trainable params: 84,051\n",
            "Non-trainable params: 50,100\n",
            "_________________________________________________________________\n"
          ]
        }
      ],
      "source": [
        "model = tf.keras.Sequential()\n",
        "model.add(encoder)\n",
        "model.add(tf.keras.layers.Embedding(input_dim = len(vocab)+2, weights = [embed_data], trainable = False, input_length = max_doc_length,output_dim = 50))\n",
        "model.add(tf.keras.layers.Conv1D(128, 5, activation='sigmoid'))\n",
        "model.add(tf.keras.layers.MaxPooling1D(5))\n",
        "model.add(tf.keras.layers.Dropout(0.3))\n",
        "model.add(tf.keras.layers.Conv1D(64, 5, activation='sigmoid'))\n",
        "model.add(tf.keras.layers.MaxPooling1D(5))\n",
        "model.add(tf.keras.layers.Dropout(0.3))\n",
        "model.add(tf.keras.layers.Conv1D(32, 5, activation='sigmoid'))\n",
        "model.add(tf.keras.layers.GlobalMaxPooling1D())\n",
        "model.add(tf.keras.layers.Dropout(0.3))\n",
        "model.add(tf.keras.layers.Dense(label_total, activation='softmax')) #output layer的神經元要有label_total個，以softmax調整輸出值\n",
        "model.summary()"
      ]
    },
    {
      "cell_type": "code",
      "execution_count": null,
      "metadata": {
        "id": "DcZUle175B-n"
      },
      "outputs": [],
      "source": [
        "# training\n",
        "opt = tf.keras.optimizers.Adam(learning_rate=0.01)\n",
        "model.compile(optimizer = opt,\n",
        "       loss = tf.losses.CategoricalCrossentropy(from_logits=True),\n",
        "       metrics = [tf.metrics.CategoricalAccuracy()])\n",
        "# 注意範例中 imdb_reviews 只有 0/1 兩種 labels，而作業的 labels 有 19 種\n",
        "# 參數中 loss function 需由 BinaryCrossentropy 改成 CategoricalCrossentropy\n",
        "# 參數中 metrics 需由 BinaryAccuracy 改成 CategoricalAccuracy"
      ]
    },
    {
      "cell_type": "code",
      "execution_count": null,
      "metadata": {
        "id": "Dt4JQuVq5B-n",
        "colab": {
          "base_uri": "https://localhost:8080/"
        },
        "outputId": "b6115cc1-e678-4ff3-bef8-2a8c5ffec894"
      },
      "outputs": [
        {
          "output_type": "stream",
          "name": "stdout",
          "text": [
            "Epoch 1/100\n"
          ]
        },
        {
          "output_type": "stream",
          "name": "stderr",
          "text": [
            "/usr/local/lib/python3.7/dist-packages/tensorflow/python/util/dispatch.py:1096: UserWarning: \"`categorical_crossentropy` received `from_logits=True`, but the `output` argument was produced by a sigmoid or softmax activation and thus does not represent logits. Was this intended?\"\n",
            "  return dispatch_target(*args, **kwargs)\n"
          ]
        },
        {
          "output_type": "stream",
          "name": "stdout",
          "text": [
            "8/8 [==============================] - 2s 169ms/step - loss: 3.0543 - categorical_accuracy: 0.0522 - val_loss: 2.9496 - val_categorical_accuracy: 0.0490\n",
            "Epoch 2/100\n",
            "8/8 [==============================] - 1s 116ms/step - loss: 2.9511 - categorical_accuracy: 0.0533 - val_loss: 2.9450 - val_categorical_accuracy: 0.0516\n",
            "Epoch 3/100\n",
            "8/8 [==============================] - 1s 115ms/step - loss: 2.9456 - categorical_accuracy: 0.0528 - val_loss: 2.9454 - val_categorical_accuracy: 0.0516\n",
            "Epoch 4/100\n",
            "8/8 [==============================] - 1s 114ms/step - loss: 2.9449 - categorical_accuracy: 0.0526 - val_loss: 2.9456 - val_categorical_accuracy: 0.0479\n",
            "Epoch 5/100\n",
            "8/8 [==============================] - 1s 116ms/step - loss: 2.9445 - categorical_accuracy: 0.0539 - val_loss: 2.9458 - val_categorical_accuracy: 0.0479\n",
            "Epoch 6/100\n",
            "8/8 [==============================] - 1s 114ms/step - loss: 2.9445 - categorical_accuracy: 0.0511 - val_loss: 2.9458 - val_categorical_accuracy: 0.0479\n",
            "Epoch 7/100\n",
            "8/8 [==============================] - 1s 113ms/step - loss: 2.9444 - categorical_accuracy: 0.0536 - val_loss: 2.9458 - val_categorical_accuracy: 0.0479\n",
            "Epoch 8/100\n",
            "8/8 [==============================] - 1s 114ms/step - loss: 2.9444 - categorical_accuracy: 0.0526 - val_loss: 2.9460 - val_categorical_accuracy: 0.0479\n",
            "Epoch 9/100\n",
            "8/8 [==============================] - 1s 113ms/step - loss: 2.9445 - categorical_accuracy: 0.0528 - val_loss: 2.9459 - val_categorical_accuracy: 0.0479\n",
            "Epoch 10/100\n",
            "8/8 [==============================] - 1s 113ms/step - loss: 2.9445 - categorical_accuracy: 0.0495 - val_loss: 2.9460 - val_categorical_accuracy: 0.0479\n",
            "Epoch 11/100\n",
            "8/8 [==============================] - 1s 114ms/step - loss: 2.9443 - categorical_accuracy: 0.0547 - val_loss: 2.9456 - val_categorical_accuracy: 0.0490\n",
            "Epoch 12/100\n",
            "8/8 [==============================] - 1s 116ms/step - loss: 2.9443 - categorical_accuracy: 0.0576 - val_loss: 2.9457 - val_categorical_accuracy: 0.0490\n",
            "Epoch 13/100\n",
            "8/8 [==============================] - 1s 115ms/step - loss: 2.9445 - categorical_accuracy: 0.0494 - val_loss: 2.9455 - val_categorical_accuracy: 0.0490\n",
            "Epoch 14/100\n",
            "8/8 [==============================] - 1s 114ms/step - loss: 2.9443 - categorical_accuracy: 0.0533 - val_loss: 2.9459 - val_categorical_accuracy: 0.0479\n",
            "Epoch 15/100\n",
            "8/8 [==============================] - 1s 115ms/step - loss: 2.9445 - categorical_accuracy: 0.0495 - val_loss: 2.9459 - val_categorical_accuracy: 0.0464\n",
            "Epoch 16/100\n",
            "8/8 [==============================] - 1s 115ms/step - loss: 2.9445 - categorical_accuracy: 0.0537 - val_loss: 2.9459 - val_categorical_accuracy: 0.0464\n",
            "Epoch 17/100\n",
            "8/8 [==============================] - 1s 115ms/step - loss: 2.9444 - categorical_accuracy: 0.0541 - val_loss: 2.9458 - val_categorical_accuracy: 0.0464\n",
            "Epoch 18/100\n",
            "8/8 [==============================] - 1s 118ms/step - loss: 2.9445 - categorical_accuracy: 0.0532 - val_loss: 2.9459 - val_categorical_accuracy: 0.0464\n",
            "Epoch 19/100\n",
            "8/8 [==============================] - 1s 115ms/step - loss: 2.9445 - categorical_accuracy: 0.0512 - val_loss: 2.9459 - val_categorical_accuracy: 0.0464\n",
            "Epoch 20/100\n",
            "8/8 [==============================] - 1s 115ms/step - loss: 2.9444 - categorical_accuracy: 0.0556 - val_loss: 2.9457 - val_categorical_accuracy: 0.0464\n",
            "Epoch 21/100\n",
            "8/8 [==============================] - 1s 114ms/step - loss: 2.9444 - categorical_accuracy: 0.0544 - val_loss: 2.9459 - val_categorical_accuracy: 0.0464\n",
            "Epoch 22/100\n",
            "8/8 [==============================] - 1s 114ms/step - loss: 2.9444 - categorical_accuracy: 0.0540 - val_loss: 2.9460 - val_categorical_accuracy: 0.0464\n",
            "Epoch 23/100\n",
            "8/8 [==============================] - 1s 114ms/step - loss: 2.9444 - categorical_accuracy: 0.0516 - val_loss: 2.9459 - val_categorical_accuracy: 0.0527\n",
            "Epoch 24/100\n",
            "8/8 [==============================] - 1s 115ms/step - loss: 2.9443 - categorical_accuracy: 0.0548 - val_loss: 2.9459 - val_categorical_accuracy: 0.0464\n",
            "Epoch 25/100\n",
            "8/8 [==============================] - 1s 118ms/step - loss: 2.9444 - categorical_accuracy: 0.0549 - val_loss: 2.9459 - val_categorical_accuracy: 0.0479\n",
            "Epoch 26/100\n",
            "8/8 [==============================] - 1s 115ms/step - loss: 2.9444 - categorical_accuracy: 0.0524 - val_loss: 2.9458 - val_categorical_accuracy: 0.0464\n",
            "Epoch 27/100\n",
            "8/8 [==============================] - 1s 116ms/step - loss: 2.9444 - categorical_accuracy: 0.0551 - val_loss: 2.9459 - val_categorical_accuracy: 0.0479\n",
            "Epoch 28/100\n",
            "8/8 [==============================] - 1s 115ms/step - loss: 2.9444 - categorical_accuracy: 0.0530 - val_loss: 2.9462 - val_categorical_accuracy: 0.0479\n",
            "Epoch 29/100\n",
            "8/8 [==============================] - 1s 115ms/step - loss: 2.9445 - categorical_accuracy: 0.0531 - val_loss: 2.9461 - val_categorical_accuracy: 0.0479\n",
            "Epoch 30/100\n",
            "8/8 [==============================] - 1s 114ms/step - loss: 2.9445 - categorical_accuracy: 0.0532 - val_loss: 2.9462 - val_categorical_accuracy: 0.0479\n",
            "Epoch 31/100\n",
            "8/8 [==============================] - 1s 114ms/step - loss: 2.9444 - categorical_accuracy: 0.0547 - val_loss: 2.9463 - val_categorical_accuracy: 0.0479\n",
            "Epoch 32/100\n",
            "8/8 [==============================] - 1s 121ms/step - loss: 2.9444 - categorical_accuracy: 0.0527 - val_loss: 2.9462 - val_categorical_accuracy: 0.0464\n",
            "Epoch 33/100\n",
            "8/8 [==============================] - 1s 117ms/step - loss: 2.9444 - categorical_accuracy: 0.0556 - val_loss: 2.9461 - val_categorical_accuracy: 0.0464\n",
            "Epoch 34/100\n",
            "8/8 [==============================] - 1s 114ms/step - loss: 2.9444 - categorical_accuracy: 0.0543 - val_loss: 2.9461 - val_categorical_accuracy: 0.0464\n",
            "Epoch 35/100\n",
            "8/8 [==============================] - 1s 113ms/step - loss: 2.9445 - categorical_accuracy: 0.0543 - val_loss: 2.9463 - val_categorical_accuracy: 0.0464\n",
            "Epoch 36/100\n",
            "8/8 [==============================] - 1s 117ms/step - loss: 2.9444 - categorical_accuracy: 0.0544 - val_loss: 2.9463 - val_categorical_accuracy: 0.0464\n",
            "Epoch 37/100\n",
            "8/8 [==============================] - 1s 115ms/step - loss: 2.9445 - categorical_accuracy: 0.0541 - val_loss: 2.9461 - val_categorical_accuracy: 0.0464\n",
            "Epoch 38/100\n",
            "8/8 [==============================] - 1s 117ms/step - loss: 2.9444 - categorical_accuracy: 0.0543 - val_loss: 2.9462 - val_categorical_accuracy: 0.0464\n",
            "Epoch 39/100\n",
            "8/8 [==============================] - 1s 115ms/step - loss: 2.9445 - categorical_accuracy: 0.0543 - val_loss: 2.9463 - val_categorical_accuracy: 0.0464\n",
            "Epoch 40/100\n",
            "8/8 [==============================] - 1s 113ms/step - loss: 2.9444 - categorical_accuracy: 0.0544 - val_loss: 2.9460 - val_categorical_accuracy: 0.0464\n",
            "Epoch 41/100\n",
            "8/8 [==============================] - 1s 116ms/step - loss: 2.9445 - categorical_accuracy: 0.0537 - val_loss: 2.9459 - val_categorical_accuracy: 0.0501\n",
            "Epoch 42/100\n",
            "8/8 [==============================] - 1s 116ms/step - loss: 2.9444 - categorical_accuracy: 0.0578 - val_loss: 2.9458 - val_categorical_accuracy: 0.0479\n",
            "Epoch 43/100\n",
            "8/8 [==============================] - 1s 115ms/step - loss: 2.9445 - categorical_accuracy: 0.0541 - val_loss: 2.9459 - val_categorical_accuracy: 0.0479\n",
            "Epoch 44/100\n",
            "8/8 [==============================] - 1s 117ms/step - loss: 2.9444 - categorical_accuracy: 0.0527 - val_loss: 2.9459 - val_categorical_accuracy: 0.0479\n",
            "Epoch 45/100\n",
            "8/8 [==============================] - 1s 119ms/step - loss: 2.9444 - categorical_accuracy: 0.0479 - val_loss: 2.9460 - val_categorical_accuracy: 0.0479\n",
            "Epoch 46/100\n",
            "8/8 [==============================] - 1s 118ms/step - loss: 2.9445 - categorical_accuracy: 0.0535 - val_loss: 2.9458 - val_categorical_accuracy: 0.0464\n",
            "Epoch 47/100\n",
            "8/8 [==============================] - 1s 118ms/step - loss: 2.9444 - categorical_accuracy: 0.0540 - val_loss: 2.9458 - val_categorical_accuracy: 0.0464\n",
            "Epoch 48/100\n",
            "8/8 [==============================] - 1s 118ms/step - loss: 2.9444 - categorical_accuracy: 0.0544 - val_loss: 2.9460 - val_categorical_accuracy: 0.0464\n",
            "Epoch 49/100\n",
            "8/8 [==============================] - 1s 117ms/step - loss: 2.9445 - categorical_accuracy: 0.0536 - val_loss: 2.9459 - val_categorical_accuracy: 0.0501\n",
            "Epoch 50/100\n",
            "8/8 [==============================] - 1s 118ms/step - loss: 2.9445 - categorical_accuracy: 0.0522 - val_loss: 2.9459 - val_categorical_accuracy: 0.0501\n",
            "Epoch 51/100\n",
            "8/8 [==============================] - 1s 118ms/step - loss: 2.9445 - categorical_accuracy: 0.0523 - val_loss: 2.9460 - val_categorical_accuracy: 0.0501\n",
            "Epoch 52/100\n",
            "8/8 [==============================] - 1s 116ms/step - loss: 2.9444 - categorical_accuracy: 0.0515 - val_loss: 2.9462 - val_categorical_accuracy: 0.0479\n",
            "Epoch 53/100\n",
            "8/8 [==============================] - 1s 118ms/step - loss: 2.9444 - categorical_accuracy: 0.0523 - val_loss: 2.9461 - val_categorical_accuracy: 0.0479\n",
            "Epoch 54/100\n",
            "8/8 [==============================] - 1s 118ms/step - loss: 2.9444 - categorical_accuracy: 0.0536 - val_loss: 2.9460 - val_categorical_accuracy: 0.0479\n",
            "Epoch 55/100\n",
            "8/8 [==============================] - 1s 118ms/step - loss: 2.9443 - categorical_accuracy: 0.0518 - val_loss: 2.9460 - val_categorical_accuracy: 0.0479\n",
            "Epoch 56/100\n",
            "8/8 [==============================] - 1s 120ms/step - loss: 2.9445 - categorical_accuracy: 0.0489 - val_loss: 2.9459 - val_categorical_accuracy: 0.0511\n",
            "Epoch 57/100\n",
            "8/8 [==============================] - 1s 117ms/step - loss: 2.9444 - categorical_accuracy: 0.0515 - val_loss: 2.9457 - val_categorical_accuracy: 0.0479\n",
            "Epoch 58/100\n",
            "8/8 [==============================] - 1s 119ms/step - loss: 2.9445 - categorical_accuracy: 0.0551 - val_loss: 2.9457 - val_categorical_accuracy: 0.0464\n",
            "Epoch 59/100\n",
            "8/8 [==============================] - 1s 118ms/step - loss: 2.9445 - categorical_accuracy: 0.0541 - val_loss: 2.9459 - val_categorical_accuracy: 0.0464\n",
            "Epoch 60/100\n",
            "8/8 [==============================] - 1s 119ms/step - loss: 2.9444 - categorical_accuracy: 0.0544 - val_loss: 2.9460 - val_categorical_accuracy: 0.0464\n",
            "Epoch 61/100\n",
            "8/8 [==============================] - 1s 118ms/step - loss: 2.9444 - categorical_accuracy: 0.0545 - val_loss: 2.9460 - val_categorical_accuracy: 0.0464\n",
            "Epoch 62/100\n",
            "8/8 [==============================] - 1s 117ms/step - loss: 2.9444 - categorical_accuracy: 0.0535 - val_loss: 2.9461 - val_categorical_accuracy: 0.0490\n",
            "Epoch 63/100\n",
            "8/8 [==============================] - 1s 116ms/step - loss: 2.9445 - categorical_accuracy: 0.0533 - val_loss: 2.9461 - val_categorical_accuracy: 0.0490\n",
            "Epoch 64/100\n",
            "8/8 [==============================] - 1s 118ms/step - loss: 2.9445 - categorical_accuracy: 0.0536 - val_loss: 2.9460 - val_categorical_accuracy: 0.0490\n",
            "Epoch 65/100\n",
            "8/8 [==============================] - 1s 119ms/step - loss: 2.9446 - categorical_accuracy: 0.0528 - val_loss: 2.9461 - val_categorical_accuracy: 0.0464\n",
            "Epoch 66/100\n",
            "8/8 [==============================] - 1s 126ms/step - loss: 2.9444 - categorical_accuracy: 0.0511 - val_loss: 2.9459 - val_categorical_accuracy: 0.0490\n",
            "Epoch 67/100\n",
            "8/8 [==============================] - 1s 119ms/step - loss: 2.9445 - categorical_accuracy: 0.0528 - val_loss: 2.9458 - val_categorical_accuracy: 0.0464\n",
            "Epoch 68/100\n",
            "8/8 [==============================] - 1s 119ms/step - loss: 2.9443 - categorical_accuracy: 0.0539 - val_loss: 2.9459 - val_categorical_accuracy: 0.0464\n",
            "Epoch 69/100\n",
            "8/8 [==============================] - 1s 118ms/step - loss: 2.9445 - categorical_accuracy: 0.0552 - val_loss: 2.9456 - val_categorical_accuracy: 0.0464\n",
            "Epoch 70/100\n",
            "8/8 [==============================] - 1s 118ms/step - loss: 2.9446 - categorical_accuracy: 0.0543 - val_loss: 2.9456 - val_categorical_accuracy: 0.0464\n",
            "Epoch 71/100\n",
            "8/8 [==============================] - 1s 119ms/step - loss: 2.9445 - categorical_accuracy: 0.0544 - val_loss: 2.9459 - val_categorical_accuracy: 0.0464\n",
            "Epoch 72/100\n",
            "8/8 [==============================] - 1s 120ms/step - loss: 2.9445 - categorical_accuracy: 0.0543 - val_loss: 2.9461 - val_categorical_accuracy: 0.0464\n",
            "Epoch 73/100\n",
            "8/8 [==============================] - 1s 118ms/step - loss: 2.9444 - categorical_accuracy: 0.0543 - val_loss: 2.9460 - val_categorical_accuracy: 0.0464\n",
            "Epoch 74/100\n",
            "8/8 [==============================] - 1s 117ms/step - loss: 2.9444 - categorical_accuracy: 0.0537 - val_loss: 2.9460 - val_categorical_accuracy: 0.0479\n",
            "Epoch 75/100\n",
            "8/8 [==============================] - 1s 118ms/step - loss: 2.9445 - categorical_accuracy: 0.0535 - val_loss: 2.9460 - val_categorical_accuracy: 0.0479\n",
            "Epoch 76/100\n",
            "8/8 [==============================] - 1s 118ms/step - loss: 2.9444 - categorical_accuracy: 0.0539 - val_loss: 2.9460 - val_categorical_accuracy: 0.0479\n",
            "Epoch 77/100\n",
            "8/8 [==============================] - 1s 118ms/step - loss: 2.9444 - categorical_accuracy: 0.0536 - val_loss: 2.9457 - val_categorical_accuracy: 0.0479\n",
            "Epoch 78/100\n",
            "8/8 [==============================] - 1s 119ms/step - loss: 2.9445 - categorical_accuracy: 0.0530 - val_loss: 2.9458 - val_categorical_accuracy: 0.0464\n",
            "Epoch 79/100\n",
            "8/8 [==============================] - 1s 117ms/step - loss: 2.9445 - categorical_accuracy: 0.0508 - val_loss: 2.9461 - val_categorical_accuracy: 0.0464\n",
            "Epoch 80/100\n",
            "8/8 [==============================] - 1s 120ms/step - loss: 2.9444 - categorical_accuracy: 0.0544 - val_loss: 2.9463 - val_categorical_accuracy: 0.0464\n",
            "Epoch 81/100\n",
            "8/8 [==============================] - 1s 116ms/step - loss: 2.9445 - categorical_accuracy: 0.0523 - val_loss: 2.9461 - val_categorical_accuracy: 0.0479\n",
            "Epoch 82/100\n",
            "8/8 [==============================] - 1s 117ms/step - loss: 2.9445 - categorical_accuracy: 0.0493 - val_loss: 2.9458 - val_categorical_accuracy: 0.0479\n",
            "Epoch 83/100\n",
            "8/8 [==============================] - 1s 119ms/step - loss: 2.9444 - categorical_accuracy: 0.0532 - val_loss: 2.9459 - val_categorical_accuracy: 0.0479\n",
            "Epoch 84/100\n",
            "8/8 [==============================] - 1s 119ms/step - loss: 2.9445 - categorical_accuracy: 0.0497 - val_loss: 2.9458 - val_categorical_accuracy: 0.0490\n",
            "Epoch 85/100\n",
            "8/8 [==============================] - 1s 119ms/step - loss: 2.9443 - categorical_accuracy: 0.0535 - val_loss: 2.9457 - val_categorical_accuracy: 0.0490\n",
            "Epoch 86/100\n",
            "8/8 [==============================] - 1s 118ms/step - loss: 2.9444 - categorical_accuracy: 0.0536 - val_loss: 2.9458 - val_categorical_accuracy: 0.0479\n",
            "Epoch 87/100\n",
            "8/8 [==============================] - 1s 119ms/step - loss: 2.9444 - categorical_accuracy: 0.0524 - val_loss: 2.9460 - val_categorical_accuracy: 0.0479\n",
            "Epoch 88/100\n",
            "8/8 [==============================] - 1s 118ms/step - loss: 2.9444 - categorical_accuracy: 0.0548 - val_loss: 2.9460 - val_categorical_accuracy: 0.0479\n",
            "Epoch 89/100\n",
            "8/8 [==============================] - 1s 118ms/step - loss: 2.9444 - categorical_accuracy: 0.0502 - val_loss: 2.9458 - val_categorical_accuracy: 0.0479\n",
            "Epoch 90/100\n",
            "8/8 [==============================] - 1s 120ms/step - loss: 2.9444 - categorical_accuracy: 0.0514 - val_loss: 2.9457 - val_categorical_accuracy: 0.0479\n",
            "Epoch 91/100\n",
            "8/8 [==============================] - 1s 116ms/step - loss: 2.9444 - categorical_accuracy: 0.0537 - val_loss: 2.9458 - val_categorical_accuracy: 0.0479\n",
            "Epoch 92/100\n",
            "8/8 [==============================] - 1s 118ms/step - loss: 2.9444 - categorical_accuracy: 0.0536 - val_loss: 2.9457 - val_categorical_accuracy: 0.0479\n",
            "Epoch 93/100\n",
            "8/8 [==============================] - 1s 118ms/step - loss: 2.9444 - categorical_accuracy: 0.0477 - val_loss: 2.9457 - val_categorical_accuracy: 0.0464\n",
            "Epoch 94/100\n",
            "8/8 [==============================] - 1s 119ms/step - loss: 2.9445 - categorical_accuracy: 0.0524 - val_loss: 2.9456 - val_categorical_accuracy: 0.0490\n",
            "Epoch 95/100\n",
            "8/8 [==============================] - 1s 119ms/step - loss: 2.9445 - categorical_accuracy: 0.0506 - val_loss: 2.9458 - val_categorical_accuracy: 0.0479\n",
            "Epoch 96/100\n",
            "8/8 [==============================] - 1s 118ms/step - loss: 2.9444 - categorical_accuracy: 0.0547 - val_loss: 2.9458 - val_categorical_accuracy: 0.0464\n",
            "Epoch 97/100\n",
            "8/8 [==============================] - 1s 120ms/step - loss: 2.9445 - categorical_accuracy: 0.0535 - val_loss: 2.9459 - val_categorical_accuracy: 0.0479\n",
            "Epoch 98/100\n",
            "8/8 [==============================] - 1s 123ms/step - loss: 2.9444 - categorical_accuracy: 0.0582 - val_loss: 2.9457 - val_categorical_accuracy: 0.0464\n",
            "Epoch 99/100\n",
            "8/8 [==============================] - 1s 119ms/step - loss: 2.9444 - categorical_accuracy: 0.0530 - val_loss: 2.9458 - val_categorical_accuracy: 0.0464\n",
            "Epoch 100/100\n",
            "8/8 [==============================] - 1s 118ms/step - loss: 2.9444 - categorical_accuracy: 0.0535 - val_loss: 2.9458 - val_categorical_accuracy: 0.0464\n"
          ]
        }
      ],
      "source": [
        "history = model.fit(train_examples,\n",
        "           train_labels,\n",
        "           epochs = 100,\n",
        "           batch_size = 1024,\n",
        "           validation_data = (val_examples, val_labels),\n",
        "           verbose = 1)"
      ]
    },
    {
      "cell_type": "code",
      "execution_count": null,
      "metadata": {
        "id": "xPwGH6ut5B-n"
      },
      "outputs": [],
      "source": [
        "# 以下繪製訓練過程中 loss 變化及 accuracy 變化\n",
        "history_dict = history.history\n",
        "# history_dict.keys()\n",
        "acc = history_dict['categorical_accuracy']\n",
        "val_acc = history_dict['val_categorical_accuracy']\n",
        "loss = history_dict['loss']\n",
        "val_loss = history_dict['val_loss']\n",
        "epochs = range(1, len(acc)+1)"
      ]
    },
    {
      "cell_type": "code",
      "execution_count": null,
      "metadata": {
        "id": "Lt9OYiWR5B-o",
        "colab": {
          "base_uri": "https://localhost:8080/",
          "height": 295
        },
        "outputId": "7c7bd3b7-2210-4906-ea74-671c23962237"
      },
      "outputs": [
        {
          "output_type": "display_data",
          "data": {
            "image/png": "[encoded data removed]",
            "text/plain": [
              "<Figure size 432x288 with 1 Axes>"
            ]
          },
          "metadata": {
            "needs_background": "light"
          }
        }
      ],
      "source": [
        "# \"bo\" is for \"blue dot\"\n",
        "plt.plot(epochs, loss, 'bo', label='Training loss')\n",
        "# b is for \"solid blue line\"\n",
        "plt.plot(epochs, val_loss, 'b', label='Validation loss')\n",
        "plt.title('Training and validation loss')\n",
        "plt.xlabel('Epochs')\n",
        "plt.ylabel('Loss')\n",
        "plt.legend()\n",
        "plt.show()"
      ]
    },
    {
      "cell_type": "code",
      "execution_count": null,
      "metadata": {
        "id": "2h5qq4YA5B-o",
        "colab": {
          "base_uri": "https://localhost:8080/",
          "height": 295
        },
        "outputId": "35b55882-1065-4a9e-a3bc-733bf25963da"
      },
      "outputs": [
        {
          "output_type": "display_data",
          "data": {
            "image/png": "[encoded data removed]",
            "text/plain": [
              "<Figure size 432x288 with 1 Axes>"
            ]
          },
          "metadata": {
            "needs_background": "light"
          }
        }
      ],
      "source": [
        "plt.clf() #clear figure\n",
        "plt.plot(epochs, acc, 'bo', label='Training acc')\n",
        "plt.plot(epochs, val_acc, 'b', label='Validation acc')\n",
        "plt.title('Training and validation accuracy')\n",
        "plt.xlabel('Epochs')\n",
        "plt.ylabel('Accuracy')\n",
        "plt.legend()\n",
        "plt.show()"
      ]
    }
  ],
  "metadata": {
    "accelerator": "GPU",
    "colab": {
      "collapsed_sections": [],
      "name": "自由使用「「NLP project」的副本」的副本",
      "provenance": []
    },
    "kernelspec": {
      "display_name": "Python 3",
      "name": "python3"
    },
    "language_info": {
      "name": "python"
    }
  },
  "nbformat": 4,
  "nbformat_minor": 0
}